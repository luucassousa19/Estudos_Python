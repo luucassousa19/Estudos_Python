{
  "cells": [
    {
      "cell_type": "markdown",
      "metadata": {
        "id": "view-in-github",
        "colab_type": "text"
      },
      "source": [
        "<a href=\"https://colab.research.google.com/github/luucassousa19/Estudos_Python/blob/master/my_first_notebook.ipynb\" target=\"_parent\"><img src=\"https://colab.research.google.com/assets/colab-badge.svg\" alt=\"Open In Colab\"/></a>"
      ]
    },
    {
      "cell_type": "code",
      "execution_count": null,
      "id": "aa59e8f2-ae3b-4336-8e5b-bc340d1a87eb",
      "metadata": {
        "colab": {
          "base_uri": "https://localhost:8080/"
        },
        "id": "aa59e8f2-ae3b-4336-8e5b-bc340d1a87eb",
        "outputId": "9e54e4ac-a2e1-4ee6-9e37-0259c0e99069"
      },
      "outputs": [
        {
          "output_type": "stream",
          "name": "stdout",
          "text": [
            "Hello World\n"
          ]
        }
      ],
      "source": [
        "print('Hello World')"
      ]
    },
    {
      "cell_type": "markdown",
      "id": "374974b3-ecfa-416d-8676-141fb59ec05a",
      "metadata": {
        "id": "374974b3-ecfa-416d-8676-141fb59ec05a"
      },
      "source": [
        "**print('Hello WORLD')**"
      ]
    },
    {
      "cell_type": "markdown",
      "source": [
        "***Chapter 2 : Python Crash Course***"
      ],
      "metadata": {
        "id": "w3aoo-GXVex4"
      },
      "id": "w3aoo-GXVex4"
    },
    {
      "cell_type": "code",
      "execution_count": null,
      "id": "83bb75cd-588d-4d4a-a5fb-2a1ecffda9f2",
      "metadata": {
        "id": "83bb75cd-588d-4d4a-a5fb-2a1ecffda9f2"
      },
      "outputs": [],
      "source": [
        "l1=[1,2,3]\n",
        "l2=[1,'hello','test',2.6]\n",
        "lcaderno=[1,2,3,4,5,6,7,8]"
      ]
    },
    {
      "cell_type": "code",
      "execution_count": null,
      "id": "dfda5a87-251a-4866-8279-665e029ba05c",
      "metadata": {
        "id": "dfda5a87-251a-4866-8279-665e029ba05c",
        "outputId": "66a9cce3-a457-4b9b-993e-f8ea6e7ba463"
      },
      "outputs": [
        {
          "data": {
            "text/plain": [
              "1"
            ]
          },
          "execution_count": 18,
          "metadata": {},
          "output_type": "execute_result"
        }
      ],
      "source": [
        "l1[0]"
      ]
    },
    {
      "cell_type": "code",
      "execution_count": null,
      "id": "12011149-6151-4a39-b96e-7ab6b86bc0a6",
      "metadata": {
        "id": "12011149-6151-4a39-b96e-7ab6b86bc0a6",
        "outputId": "8dae1aa6-2315-4f34-ab03-60f7d5328f5c"
      },
      "outputs": [
        {
          "data": {
            "text/plain": [
              "2"
            ]
          },
          "execution_count": 19,
          "metadata": {},
          "output_type": "execute_result"
        }
      ],
      "source": [
        "l1[1]"
      ]
    },
    {
      "cell_type": "code",
      "execution_count": null,
      "id": "629fbef4-fbf6-4c60-a386-5afdea1706e5",
      "metadata": {
        "id": "629fbef4-fbf6-4c60-a386-5afdea1706e5",
        "outputId": "2b3c4715-867e-493b-b95b-20a4c3176d05"
      },
      "outputs": [
        {
          "data": {
            "text/plain": [
              "3"
            ]
          },
          "execution_count": 31,
          "metadata": {},
          "output_type": "execute_result"
        }
      ],
      "source": [
        "l1[2]"
      ]
    },
    {
      "cell_type": "code",
      "execution_count": null,
      "id": "cb10cb67-0c05-4917-aae5-221847fab1e4",
      "metadata": {
        "id": "cb10cb67-0c05-4917-aae5-221847fab1e4",
        "outputId": "e52dd851-8294-4750-b4d6-5880f476a2a6"
      },
      "outputs": [
        {
          "data": {
            "text/plain": [
              "[2, 3]"
            ]
          },
          "execution_count": 32,
          "metadata": {},
          "output_type": "execute_result"
        }
      ],
      "source": [
        "l1[1:]"
      ]
    },
    {
      "cell_type": "code",
      "execution_count": null,
      "id": "fa38f81b-1395-476f-ba1d-db233b094d81",
      "metadata": {
        "id": "fa38f81b-1395-476f-ba1d-db233b094d81",
        "outputId": "867c1b38-987e-4b69-b9ea-732bf2f26ef2"
      },
      "outputs": [
        {
          "data": {
            "text/plain": [
              "[2, 3, 4, 5, 6, 7, 8]"
            ]
          },
          "execution_count": 23,
          "metadata": {},
          "output_type": "execute_result"
        }
      ],
      "source": [
        "lcaderno[1:]"
      ]
    },
    {
      "cell_type": "code",
      "execution_count": null,
      "id": "49c82faf-fd8c-479b-a360-e3577e33c720",
      "metadata": {
        "id": "49c82faf-fd8c-479b-a360-e3577e33c720",
        "outputId": "5f9c4447-60c9-45be-a0ee-ec2dffabaae4"
      },
      "outputs": [
        {
          "data": {
            "text/plain": [
              "4"
            ]
          },
          "execution_count": 25,
          "metadata": {},
          "output_type": "execute_result"
        }
      ],
      "source": [
        "len(l2)"
      ]
    },
    {
      "cell_type": "code",
      "execution_count": null,
      "id": "c1f745d7-4509-4fcd-ab3b-a866b8821781",
      "metadata": {
        "id": "c1f745d7-4509-4fcd-ab3b-a866b8821781",
        "outputId": "de16196f-c380-4d81-e94f-b346e325069b"
      },
      "outputs": [
        {
          "data": {
            "text/plain": [
              "10"
            ]
          },
          "execution_count": 27,
          "metadata": {},
          "output_type": "execute_result"
        }
      ],
      "source": [
        "len(l1)"
      ]
    },
    {
      "cell_type": "code",
      "execution_count": null,
      "id": "2df13f34-2e04-45a2-a13b-4cc4d1f3d5d8",
      "metadata": {
        "id": "2df13f34-2e04-45a2-a13b-4cc4d1f3d5d8",
        "outputId": "4354c909-768c-4574-f52f-0190185154a0"
      },
      "outputs": [
        {
          "data": {
            "text/plain": [
              "8"
            ]
          },
          "execution_count": 28,
          "metadata": {},
          "output_type": "execute_result"
        }
      ],
      "source": [
        "len(lcaderno)"
      ]
    },
    {
      "cell_type": "code",
      "execution_count": null,
      "id": "fec96342-3e74-444e-ab2a-f82ce6c3a2de",
      "metadata": {
        "id": "fec96342-3e74-444e-ab2a-f82ce6c3a2de",
        "outputId": "c2807d5b-af7a-4272-bd27-c2c3e96b9bca"
      },
      "outputs": [
        {
          "data": {
            "text/plain": [
              "[1, 2, 3, 1, 'hello', 'test', 2.6]"
            ]
          },
          "execution_count": 33,
          "metadata": {},
          "output_type": "execute_result"
        }
      ],
      "source": [
        "l1 + l2"
      ]
    },
    {
      "cell_type": "code",
      "execution_count": null,
      "id": "adc2a385-978c-4c5f-aac9-309b9f5bf49f",
      "metadata": {
        "id": "adc2a385-978c-4c5f-aac9-309b9f5bf49f"
      },
      "outputs": [],
      "source": [
        "l1.append(4)"
      ]
    },
    {
      "cell_type": "code",
      "execution_count": null,
      "id": "83aca9b2-5da4-4499-9151-d884bf86d337",
      "metadata": {
        "id": "83aca9b2-5da4-4499-9151-d884bf86d337",
        "outputId": "0250c0a9-a443-4344-96bc-95ed4a3d9084"
      },
      "outputs": [
        {
          "data": {
            "text/plain": [
              "[1, 2, 3, 4]"
            ]
          },
          "execution_count": 38,
          "metadata": {},
          "output_type": "execute_result"
        }
      ],
      "source": [
        "l1"
      ]
    },
    {
      "cell_type": "code",
      "execution_count": null,
      "id": "7957fd5d-d539-42d6-84ca-253690d4a50d",
      "metadata": {
        "id": "7957fd5d-d539-42d6-84ca-253690d4a50d",
        "outputId": "76adf56a-1cbf-49d2-8b11-c5e07fea587b"
      },
      "outputs": [
        {
          "data": {
            "text/plain": [
              "4"
            ]
          },
          "execution_count": 39,
          "metadata": {},
          "output_type": "execute_result"
        }
      ],
      "source": [
        "l1.pop()"
      ]
    },
    {
      "cell_type": "code",
      "execution_count": null,
      "id": "4de13dda-4d90-4b6d-bb06-2d2330034921",
      "metadata": {
        "id": "4de13dda-4d90-4b6d-bb06-2d2330034921",
        "outputId": "ec1bbc1f-1a4c-4004-a82e-670d31e95ca8"
      },
      "outputs": [
        {
          "data": {
            "text/plain": [
              "[1, 2, 3]"
            ]
          },
          "execution_count": 40,
          "metadata": {},
          "output_type": "execute_result"
        }
      ],
      "source": [
        "l1"
      ]
    },
    {
      "cell_type": "code",
      "execution_count": null,
      "id": "8e5c7be3-34c2-4781-ad73-7760e17cf074",
      "metadata": {
        "id": "8e5c7be3-34c2-4781-ad73-7760e17cf074"
      },
      "outputs": [],
      "source": [
        "new_list=['a','e','x','b','c']\n",
        "num_list=[2,1,5,3]"
      ]
    },
    {
      "cell_type": "code",
      "execution_count": null,
      "id": "f091e537-5cb7-4c1c-95a2-c7e0904ae4f9",
      "metadata": {
        "id": "f091e537-5cb7-4c1c-95a2-c7e0904ae4f9"
      },
      "outputs": [],
      "source": [
        "new_list.sort()\n",
        "num_list.sort()"
      ]
    },
    {
      "cell_type": "code",
      "execution_count": null,
      "id": "9a0f2686-ce58-4859-be17-803d8fcdead7",
      "metadata": {
        "id": "9a0f2686-ce58-4859-be17-803d8fcdead7",
        "outputId": "6c661c11-2e22-48bb-bad5-ab08fae309bc"
      },
      "outputs": [
        {
          "name": "stdout",
          "output_type": "stream",
          "text": [
            "['a', 'b', 'c', 'e', 'x']\n",
            "[1, 2, 3, 5]\n"
          ]
        }
      ],
      "source": [
        "print(new_list)\n",
        "print(num_list)"
      ]
    },
    {
      "cell_type": "code",
      "execution_count": null,
      "id": "fc68caf1-7d21-4e44-8916-d9d54fe74295",
      "metadata": {
        "id": "fc68caf1-7d21-4e44-8916-d9d54fe74295",
        "outputId": "ae4f1233-6662-48ec-f190-aa5ea3de8c62"
      },
      "outputs": [
        {
          "data": {
            "text/plain": [
              "1"
            ]
          },
          "execution_count": 44,
          "metadata": {},
          "output_type": "execute_result"
        }
      ],
      "source": [
        "min(num_list)"
      ]
    },
    {
      "cell_type": "code",
      "execution_count": null,
      "id": "4a856ad1-0edf-45be-a057-aac6f928334e",
      "metadata": {
        "id": "4a856ad1-0edf-45be-a057-aac6f928334e",
        "outputId": "415b34f6-a828-47ef-b832-48f27ea7bda3"
      },
      "outputs": [
        {
          "data": {
            "text/plain": [
              "5"
            ]
          },
          "execution_count": 45,
          "metadata": {},
          "output_type": "execute_result"
        }
      ],
      "source": [
        "max(num_list)"
      ]
    },
    {
      "cell_type": "code",
      "execution_count": null,
      "id": "46d0e77e-503f-482c-a7b8-156342f9800b",
      "metadata": {
        "id": "46d0e77e-503f-482c-a7b8-156342f9800b"
      },
      "outputs": [],
      "source": [
        "s1={1,2,3}"
      ]
    },
    {
      "cell_type": "code",
      "execution_count": null,
      "id": "89d8ab87-3cf2-4581-8e5c-59e13e61f58e",
      "metadata": {
        "id": "89d8ab87-3cf2-4581-8e5c-59e13e61f58e"
      },
      "outputs": [],
      "source": [
        "s2=set([1,2,3,5])"
      ]
    },
    {
      "cell_type": "code",
      "execution_count": null,
      "id": "c80b3333-bd05-4395-8433-0523c57fd7e2",
      "metadata": {
        "id": "c80b3333-bd05-4395-8433-0523c57fd7e2",
        "outputId": "4dbae4e3-bc21-4167-c581-feffeb71b895"
      },
      "outputs": [
        {
          "data": {
            "text/plain": [
              "set"
            ]
          },
          "execution_count": 48,
          "metadata": {},
          "output_type": "execute_result"
        }
      ],
      "source": [
        "type(s2)"
      ]
    },
    {
      "cell_type": "code",
      "execution_count": null,
      "id": "8990f90e-0314-47a5-a3d9-ecda3ed2aabc",
      "metadata": {
        "id": "8990f90e-0314-47a5-a3d9-ecda3ed2aabc"
      },
      "outputs": [],
      "source": [
        "s1.add(4)"
      ]
    },
    {
      "cell_type": "code",
      "execution_count": null,
      "id": "780d3f19-bb09-4436-8ff6-9a98c37504e5",
      "metadata": {
        "id": "780d3f19-bb09-4436-8ff6-9a98c37504e5",
        "outputId": "96cdd6aa-b658-4e78-fe92-de5a49afef10"
      },
      "outputs": [
        {
          "data": {
            "text/plain": [
              "{1, 2, 3, 4}"
            ]
          },
          "execution_count": 50,
          "metadata": {},
          "output_type": "execute_result"
        }
      ],
      "source": [
        "s1"
      ]
    },
    {
      "cell_type": "code",
      "execution_count": null,
      "id": "5287a232-f2aa-4184-8d83-ea7953ecebbc",
      "metadata": {
        "id": "5287a232-f2aa-4184-8d83-ea7953ecebbc"
      },
      "outputs": [],
      "source": [
        "s1.add(2)"
      ]
    },
    {
      "cell_type": "code",
      "execution_count": null,
      "id": "75cc555d-ba86-4d09-a420-4c757949cec1",
      "metadata": {
        "id": "75cc555d-ba86-4d09-a420-4c757949cec1",
        "outputId": "8f44ef99-02a7-48ab-b5f8-64526e7da236"
      },
      "outputs": [
        {
          "data": {
            "text/plain": [
              "{1, 2, 3, 4}"
            ]
          },
          "execution_count": 52,
          "metadata": {},
          "output_type": "execute_result"
        }
      ],
      "source": [
        "s1"
      ]
    },
    {
      "cell_type": "code",
      "execution_count": null,
      "id": "915027ad-1c95-4c53-b8fb-4e14fa0fb61c",
      "metadata": {
        "id": "915027ad-1c95-4c53-b8fb-4e14fa0fb61c",
        "outputId": "c3707d05-59d2-49f6-eb66-d21807181849"
      },
      "outputs": [
        {
          "data": {
            "text/plain": [
              "{4}"
            ]
          },
          "execution_count": 53,
          "metadata": {},
          "output_type": "execute_result"
        }
      ],
      "source": [
        "s1-s2"
      ]
    },
    {
      "cell_type": "code",
      "execution_count": null,
      "id": "b26492c9-5bdd-4b70-8663-91223c943083",
      "metadata": {
        "id": "b26492c9-5bdd-4b70-8663-91223c943083",
        "outputId": "1a7e1d9f-b9ea-46da-b093-1af6571b0a8c"
      },
      "outputs": [
        {
          "data": {
            "text/plain": [
              "{1, 2, 3}"
            ]
          },
          "execution_count": 54,
          "metadata": {},
          "output_type": "execute_result"
        }
      ],
      "source": [
        "s1&s2"
      ]
    },
    {
      "cell_type": "code",
      "execution_count": null,
      "id": "290c816a-648a-45de-83e1-f78e2957be33",
      "metadata": {
        "id": "290c816a-648a-45de-83e1-f78e2957be33",
        "outputId": "2b102500-a765-4058-b4cf-bde5822750e1"
      },
      "outputs": [
        {
          "data": {
            "text/plain": [
              "{1, 2, 3, 4, 5}"
            ]
          },
          "execution_count": 55,
          "metadata": {},
          "output_type": "execute_result"
        }
      ],
      "source": [
        "s1|s2"
      ]
    },
    {
      "cell_type": "code",
      "execution_count": null,
      "id": "40400c64-3be6-4f0e-8c25-90f087cadcdb",
      "metadata": {
        "id": "40400c64-3be6-4f0e-8c25-90f087cadcdb"
      },
      "outputs": [],
      "source": [
        "d1={'k1':'value1','k2':'value2'}"
      ]
    },
    {
      "cell_type": "code",
      "execution_count": null,
      "id": "bed6e35b-3f66-4994-b96f-dc7adc34eed5",
      "metadata": {
        "id": "bed6e35b-3f66-4994-b96f-dc7adc34eed5",
        "outputId": "6138cbfc-8551-4040-ae13-8534b9d9042d"
      },
      "outputs": [
        {
          "data": {
            "text/plain": [
              "'value1'"
            ]
          },
          "execution_count": 58,
          "metadata": {},
          "output_type": "execute_result"
        }
      ],
      "source": [
        "d1['k1']"
      ]
    },
    {
      "cell_type": "code",
      "execution_count": null,
      "id": "26f998ab-9eb7-4e6c-b674-7f59ba676f1c",
      "metadata": {
        "id": "26f998ab-9eb7-4e6c-b674-7f59ba676f1c"
      },
      "outputs": [],
      "source": [
        "d2={'k1':123,'k2':[2,3,4],'k3':{'insidekey':100}}"
      ]
    },
    {
      "cell_type": "code",
      "execution_count": null,
      "id": "61115a15-c323-4586-9176-2aabfa24e4fb",
      "metadata": {
        "id": "61115a15-c323-4586-9176-2aabfa24e4fb",
        "outputId": "0da2ca92-e1fd-48a1-fb95-8ee3285ee325"
      },
      "outputs": [
        {
          "data": {
            "text/plain": [
              "[2, 3, 4]"
            ]
          },
          "execution_count": 60,
          "metadata": {},
          "output_type": "execute_result"
        }
      ],
      "source": [
        "d2['k2']"
      ]
    },
    {
      "cell_type": "code",
      "execution_count": null,
      "id": "6095d6c1-fd28-4a1d-a395-532a8fb49f35",
      "metadata": {
        "id": "6095d6c1-fd28-4a1d-a395-532a8fb49f35",
        "outputId": "607e55fd-073a-4f34-a09c-0996fced252b"
      },
      "outputs": [
        {
          "data": {
            "text/plain": [
              "100"
            ]
          },
          "execution_count": 62,
          "metadata": {},
          "output_type": "execute_result"
        }
      ],
      "source": [
        "d2['k3']['insidekey']"
      ]
    },
    {
      "cell_type": "code",
      "execution_count": null,
      "id": "5332ad11-df2c-47e5-9dc6-a8f5527b5de9",
      "metadata": {
        "id": "5332ad11-df2c-47e5-9dc6-a8f5527b5de9"
      },
      "outputs": [],
      "source": [
        "d2['k4']=200"
      ]
    },
    {
      "cell_type": "code",
      "execution_count": null,
      "id": "99fff29e-a084-4b42-8df8-c31f1226f020",
      "metadata": {
        "id": "99fff29e-a084-4b42-8df8-c31f1226f020",
        "outputId": "cfada977-187b-4b58-eacc-5eeeadfe31d0"
      },
      "outputs": [
        {
          "data": {
            "text/plain": [
              "{'k1': 123, 'k2': [2, 3, 4], 'k3': {'insidekey': 100}, 'k4': 200}"
            ]
          },
          "execution_count": 64,
          "metadata": {},
          "output_type": "execute_result"
        }
      ],
      "source": [
        "d2"
      ]
    },
    {
      "cell_type": "code",
      "execution_count": null,
      "id": "2e4892ba-d152-4d57-9f5c-2e5f2483105d",
      "metadata": {
        "id": "2e4892ba-d152-4d57-9f5c-2e5f2483105d",
        "outputId": "0996df21-3176-4ded-8278-25e73d936423"
      },
      "outputs": [
        {
          "data": {
            "text/plain": [
              "False"
            ]
          },
          "execution_count": 65,
          "metadata": {},
          "output_type": "execute_result"
        }
      ],
      "source": [
        "1==0"
      ]
    },
    {
      "cell_type": "code",
      "execution_count": null,
      "id": "ff842aaa-346d-4ece-90f6-727184b1f337",
      "metadata": {
        "id": "ff842aaa-346d-4ece-90f6-727184b1f337",
        "outputId": "e63ed1c0-7058-48a9-fb49-374772b50422"
      },
      "outputs": [
        {
          "data": {
            "text/plain": [
              "True"
            ]
          },
          "execution_count": 66,
          "metadata": {},
          "output_type": "execute_result"
        }
      ],
      "source": [
        "1==1"
      ]
    },
    {
      "cell_type": "code",
      "execution_count": null,
      "id": "958f8f98-56ad-4c39-845e-27503a66617c",
      "metadata": {
        "id": "958f8f98-56ad-4c39-845e-27503a66617c",
        "outputId": "912dbbcf-0d51-4fe9-c12d-a60d24536135"
      },
      "outputs": [
        {
          "data": {
            "text/plain": [
              "False"
            ]
          },
          "execution_count": 67,
          "metadata": {},
          "output_type": "execute_result"
        }
      ],
      "source": [
        "'Hello'=='hello'"
      ]
    },
    {
      "cell_type": "code",
      "execution_count": null,
      "id": "c44bef36-892f-4319-83bc-b997ec73e440",
      "metadata": {
        "id": "c44bef36-892f-4319-83bc-b997ec73e440",
        "outputId": "e261a4cd-fcf9-4df3-9417-235ffa2b7533"
      },
      "outputs": [
        {
          "data": {
            "text/plain": [
              "False"
            ]
          },
          "execution_count": 68,
          "metadata": {},
          "output_type": "execute_result"
        }
      ],
      "source": [
        "'2'==2"
      ]
    },
    {
      "cell_type": "code",
      "execution_count": null,
      "id": "aacde1ae-8706-4e6e-93d5-a93fa1f67d4e",
      "metadata": {
        "id": "aacde1ae-8706-4e6e-93d5-a93fa1f67d4e",
        "outputId": "9c4006d7-d838-46c5-e284-ccaca518489d"
      },
      "outputs": [
        {
          "data": {
            "text/plain": [
              "True"
            ]
          },
          "execution_count": 69,
          "metadata": {},
          "output_type": "execute_result"
        }
      ],
      "source": [
        "1<3"
      ]
    },
    {
      "cell_type": "code",
      "execution_count": null,
      "id": "727bc1e7-f604-4c02-8721-d933bcc7cf68",
      "metadata": {
        "id": "727bc1e7-f604-4c02-8721-d933bcc7cf68",
        "outputId": "f85b16ac-8152-4ee6-d34d-043d178c18a5"
      },
      "outputs": [
        {
          "data": {
            "text/plain": [
              "False"
            ]
          },
          "execution_count": 70,
          "metadata": {},
          "output_type": "execute_result"
        }
      ],
      "source": [
        "1>3"
      ]
    },
    {
      "cell_type": "code",
      "execution_count": null,
      "id": "1acca268-bdd4-4dee-b695-9bcbb6f8c65d",
      "metadata": {
        "id": "1acca268-bdd4-4dee-b695-9bcbb6f8c65d",
        "outputId": "91a7e1a6-2670-434f-f9a4-44d2c2629087"
      },
      "outputs": [
        {
          "data": {
            "text/plain": [
              "True"
            ]
          },
          "execution_count": 71,
          "metadata": {},
          "output_type": "execute_result"
        }
      ],
      "source": [
        "2<=2"
      ]
    },
    {
      "cell_type": "code",
      "execution_count": null,
      "id": "f3acbeb7-398f-4507-8d6b-f247d72871dd",
      "metadata": {
        "id": "f3acbeb7-398f-4507-8d6b-f247d72871dd",
        "outputId": "cd42bf01-6f1a-4640-e65d-3a556e9b8adc"
      },
      "outputs": [
        {
          "data": {
            "text/plain": [
              "True"
            ]
          },
          "execution_count": 72,
          "metadata": {},
          "output_type": "execute_result"
        }
      ],
      "source": [
        "1!=2"
      ]
    },
    {
      "cell_type": "code",
      "execution_count": null,
      "id": "39e8fcd6-a548-4e91-b246-c32cc16d0325",
      "metadata": {
        "id": "39e8fcd6-a548-4e91-b246-c32cc16d0325",
        "outputId": "1fe49a03-b115-4a05-8fb2-eea66dd0d3f1"
      },
      "outputs": [
        {
          "data": {
            "text/plain": [
              "True"
            ]
          },
          "execution_count": 1,
          "metadata": {},
          "output_type": "execute_result"
        }
      ],
      "source": [
        "1==1"
      ]
    },
    {
      "cell_type": "code",
      "execution_count": null,
      "id": "8c4b3275-77f8-4615-a852-0b9def039950",
      "metadata": {
        "id": "8c4b3275-77f8-4615-a852-0b9def039950",
        "outputId": "8fa8c2ce-7ae1-4441-99d8-a36450bf8607"
      },
      "outputs": [
        {
          "data": {
            "text/plain": [
              "False"
            ]
          },
          "execution_count": 1,
          "metadata": {},
          "output_type": "execute_result"
        }
      ],
      "source": [
        "'data' not in 'data science'"
      ]
    },
    {
      "cell_type": "code",
      "execution_count": null,
      "id": "74fd5609-369f-4487-92bd-82c75094725d",
      "metadata": {
        "id": "74fd5609-369f-4487-92bd-82c75094725d",
        "outputId": "53ab2c6a-3836-4aff-ef11-08b0b1ab04a4"
      },
      "outputs": [
        {
          "data": {
            "text/plain": [
              "True"
            ]
          },
          "execution_count": 2,
          "metadata": {},
          "output_type": "execute_result"
        }
      ],
      "source": [
        "'x' in ['x','s']"
      ]
    },
    {
      "cell_type": "code",
      "execution_count": null,
      "id": "25ea7aa0-26d5-45f5-b4de-8d24febc3264",
      "metadata": {
        "id": "25ea7aa0-26d5-45f5-b4de-8d24febc3264"
      },
      "outputs": [],
      "source": [
        "import pandas as pd"
      ]
    },
    {
      "cell_type": "code",
      "execution_count": null,
      "id": "26cafb9c-c47a-4ed8-a527-cac11a8e16ec",
      "metadata": {
        "id": "26cafb9c-c47a-4ed8-a527-cac11a8e16ec",
        "outputId": "5498eab2-61a6-40a2-ab6c-6dc539200661"
      },
      "outputs": [
        {
          "name": "stdout",
          "output_type": "stream",
          "text": [
            "this is true\n"
          ]
        }
      ],
      "source": [
        "if 2==2:\n",
        "    print('this is true')"
      ]
    },
    {
      "cell_type": "code",
      "execution_count": null,
      "id": "0476892d-6819-4853-9e7d-75e11a353582",
      "metadata": {
        "id": "0476892d-6819-4853-9e7d-75e11a353582",
        "outputId": "ae9e3b5b-07db-4092-f7cb-56a725494244"
      },
      "outputs": [
        {
          "name": "stdout",
          "output_type": "stream",
          "text": [
            "Let's go skiing\n"
          ]
        }
      ],
      "source": [
        "weather='snowing'\n",
        "if weather=='sunny':\n",
        "    print(\"Let's go to the park.\")\n",
        "elif weather=='cloudy':\n",
        "    print('maybe we can go to the park, what do you think?')\n",
        "elif weather=='snowing':\n",
        "    print(\"Let's go skiing\")\n",
        "else:\n",
        "    print(\"Let's stay at home.\")"
      ]
    },
    {
      "cell_type": "code",
      "execution_count": null,
      "id": "8b2cea40-95f4-4dd2-9a16-93292e7eb0b1",
      "metadata": {
        "id": "8b2cea40-95f4-4dd2-9a16-93292e7eb0b1"
      },
      "outputs": [],
      "source": [
        "l1=[1,2,3,4,5,6]"
      ]
    },
    {
      "cell_type": "code",
      "execution_count": null,
      "id": "ac6c16d2-9baa-48ce-8d7e-47009c052552",
      "metadata": {
        "id": "ac6c16d2-9baa-48ce-8d7e-47009c052552",
        "outputId": "9aba3e35-6d83-4c63-f81d-aee16cf6393b"
      },
      "outputs": [
        {
          "name": "stdout",
          "output_type": "stream",
          "text": [
            "1\n",
            "2\n",
            "3\n",
            "4\n",
            "5\n",
            "6\n"
          ]
        }
      ],
      "source": [
        "for e in l1:\n",
        "    print(e)"
      ]
    },
    {
      "cell_type": "code",
      "execution_count": null,
      "id": "2dff95a2-af97-4490-a934-c0b2f6522eeb",
      "metadata": {
        "id": "2dff95a2-af97-4490-a934-c0b2f6522eeb",
        "outputId": "1b5f0f8f-9e4b-4b21-91df-ddcaebab766f"
      },
      "outputs": [
        {
          "name": "stdout",
          "output_type": "stream",
          "text": [
            "1 is not an enven number\n",
            "2\n",
            "3 is not an enven number\n",
            "4\n",
            "5 is not an enven number\n",
            "6\n"
          ]
        }
      ],
      "source": [
        "for number in l1:\n",
        "    if number%2==0:\n",
        "        print(number)\n",
        "    else:\n",
        "        print(f'{number} is not an enven number')"
      ]
    },
    {
      "cell_type": "code",
      "execution_count": null,
      "id": "8998dc00-bb09-4902-be3b-e7b2a12855c7",
      "metadata": {
        "id": "8998dc00-bb09-4902-be3b-e7b2a12855c7"
      },
      "outputs": [],
      "source": [
        "tot_num=0\n",
        "for e in l1:\n",
        "    tot_num=tot_num+e"
      ]
    },
    {
      "cell_type": "code",
      "execution_count": null,
      "id": "ae87fa5e-ac7c-4dcc-9d72-2ebc3556c03c",
      "metadata": {
        "id": "ae87fa5e-ac7c-4dcc-9d72-2ebc3556c03c",
        "outputId": "9d37a36f-e3d2-4b95-8e78-ce0de59909c0"
      },
      "outputs": [
        {
          "data": {
            "text/plain": [
              "21"
            ]
          },
          "execution_count": 18,
          "metadata": {},
          "output_type": "execute_result"
        }
      ],
      "source": [
        "tot_num"
      ]
    },
    {
      "cell_type": "code",
      "execution_count": null,
      "id": "3218804e-21db-4502-b4f1-0fc5de96e7fc",
      "metadata": {
        "id": "3218804e-21db-4502-b4f1-0fc5de96e7fc",
        "outputId": "77cb4a8c-8999-4d8c-800c-aa7b8c0b883f"
      },
      "outputs": [
        {
          "data": {
            "text/plain": [
              "[1, 2, 3, 4, 5, 6]"
            ]
          },
          "execution_count": 19,
          "metadata": {},
          "output_type": "execute_result"
        }
      ],
      "source": [
        "l1"
      ]
    },
    {
      "cell_type": "code",
      "execution_count": null,
      "id": "7a2fccf9-6669-40a4-b8b0-a9bbebc7dbe5",
      "metadata": {
        "id": "7a2fccf9-6669-40a4-b8b0-a9bbebc7dbe5"
      },
      "outputs": [],
      "source": [
        "s1='data science'"
      ]
    },
    {
      "cell_type": "code",
      "execution_count": null,
      "id": "5f7244b5-a9f6-4378-a623-aa8e67617813",
      "metadata": {
        "id": "5f7244b5-a9f6-4378-a623-aa8e67617813"
      },
      "outputs": [],
      "source": [
        "for x in s1:\n",
        "    print(x)"
      ]
    },
    {
      "cell_type": "code",
      "execution_count": null,
      "id": "b6e6c248-83af-49c1-885e-9ba5804e030e",
      "metadata": {
        "id": "b6e6c248-83af-49c1-885e-9ba5804e030e"
      },
      "outputs": [],
      "source": [
        "l2=[(1,2),(3,4),(5,6)]"
      ]
    },
    {
      "cell_type": "code",
      "execution_count": null,
      "id": "d96bcb35-c212-4c02-8025-b816da12f0d6",
      "metadata": {
        "id": "d96bcb35-c212-4c02-8025-b816da12f0d6"
      },
      "outputs": [],
      "source": [
        "v1,v2=1,2"
      ]
    },
    {
      "cell_type": "code",
      "execution_count": null,
      "id": "9127d335-0ca2-4952-9ad6-47b83db06b43",
      "metadata": {
        "id": "9127d335-0ca2-4952-9ad6-47b83db06b43",
        "outputId": "9f1f5682-4338-4ffa-990d-2b60d67160c2"
      },
      "outputs": [
        {
          "data": {
            "text/plain": [
              "1"
            ]
          },
          "execution_count": 25,
          "metadata": {},
          "output_type": "execute_result"
        }
      ],
      "source": [
        "v1"
      ]
    },
    {
      "cell_type": "code",
      "execution_count": null,
      "id": "320d6710-4484-4d7a-adf9-7be0d20a5310",
      "metadata": {
        "id": "320d6710-4484-4d7a-adf9-7be0d20a5310",
        "outputId": "fbc4c92c-4661-41fb-e96b-dc90d579921d"
      },
      "outputs": [
        {
          "data": {
            "text/plain": [
              "2"
            ]
          },
          "execution_count": 26,
          "metadata": {},
          "output_type": "execute_result"
        }
      ],
      "source": [
        "v2"
      ]
    },
    {
      "cell_type": "code",
      "execution_count": null,
      "id": "74433c0c-e4b4-4020-ba33-94d6bff79cd7",
      "metadata": {
        "id": "74433c0c-e4b4-4020-ba33-94d6bff79cd7",
        "outputId": "4bfbb80f-a341-4943-de99-a92b02646e9b"
      },
      "outputs": [
        {
          "name": "stdout",
          "output_type": "stream",
          "text": [
            "3\n",
            "7\n",
            "11\n"
          ]
        }
      ],
      "source": [
        "for v1,v2 in l2:\n",
        "    print(v1+v2)"
      ]
    },
    {
      "cell_type": "code",
      "execution_count": null,
      "id": "af7e85e5-47b5-4adc-a4b9-fee17d6bcf1c",
      "metadata": {
        "id": "af7e85e5-47b5-4adc-a4b9-fee17d6bcf1c"
      },
      "outputs": [],
      "source": [
        "d1={'Key1':1,'Key2':2}"
      ]
    },
    {
      "cell_type": "code",
      "execution_count": null,
      "id": "c767d41f-c4cb-4b05-ae08-68ce76a08650",
      "metadata": {
        "id": "c767d41f-c4cb-4b05-ae08-68ce76a08650",
        "outputId": "0c193a7d-1504-4faa-f421-d30ab005138e"
      },
      "outputs": [
        {
          "name": "stdout",
          "output_type": "stream",
          "text": [
            "('Key1', 1)\n",
            "('Key2', 2)\n"
          ]
        }
      ],
      "source": [
        "for pair in d1.items():\n",
        "    print(pair)"
      ]
    },
    {
      "cell_type": "code",
      "execution_count": null,
      "id": "c2cd9a9a-a547-4d3f-bdba-72c672841485",
      "metadata": {
        "id": "c2cd9a9a-a547-4d3f-bdba-72c672841485",
        "outputId": "1c5e20c8-0c10-4c59-ece9-c151abec81ab"
      },
      "outputs": [
        {
          "name": "stdout",
          "output_type": "stream",
          "text": [
            "3\n",
            "5\n",
            "7\n",
            "9\n",
            "11\n",
            "num is larger than 10\n"
          ]
        }
      ],
      "source": [
        "num=1\n",
        "while num<10:\n",
        "    num+=2 #num=num+2\n",
        "    print(num)\n",
        "else:\n",
        "    print('num is larger than 10')"
      ]
    },
    {
      "cell_type": "code",
      "execution_count": null,
      "id": "7ca20d4b-fb8c-461d-85ea-dd86a1bf3ebe",
      "metadata": {
        "id": "7ca20d4b-fb8c-461d-85ea-dd86a1bf3ebe"
      },
      "outputs": [],
      "source": [
        "#range"
      ]
    },
    {
      "cell_type": "code",
      "execution_count": null,
      "id": "8eb66f4b-5d8c-477f-a46e-5e998584fc7d",
      "metadata": {
        "id": "8eb66f4b-5d8c-477f-a46e-5e998584fc7d",
        "outputId": "e84429bc-c0f9-46eb-cc31-481924bceb9e"
      },
      "outputs": [
        {
          "data": {
            "text/plain": [
              "range(0, 10)"
            ]
          },
          "execution_count": 32,
          "metadata": {},
          "output_type": "execute_result"
        }
      ],
      "source": [
        "range(10)"
      ]
    },
    {
      "cell_type": "code",
      "execution_count": null,
      "id": "79d53ca8-cf20-4c85-b8b4-b8e78988b0ee",
      "metadata": {
        "id": "79d53ca8-cf20-4c85-b8b4-b8e78988b0ee",
        "outputId": "137decef-56bf-41e2-9a0f-ebf59c3a3a63"
      },
      "outputs": [
        {
          "name": "stdout",
          "output_type": "stream",
          "text": [
            "2\n",
            "4\n",
            "6\n",
            "8\n"
          ]
        }
      ],
      "source": [
        "for i in range(2,10,2):\n",
        "    print(i)"
      ]
    },
    {
      "cell_type": "code",
      "execution_count": null,
      "id": "18b5e59a-a144-40ca-a1af-e8226d71bb27",
      "metadata": {
        "id": "18b5e59a-a144-40ca-a1af-e8226d71bb27"
      },
      "outputs": [],
      "source": [
        "#enumerate"
      ]
    },
    {
      "cell_type": "code",
      "execution_count": null,
      "id": "1bfc0d8b-ab3a-45c1-9c00-ec6a63d14566",
      "metadata": {
        "id": "1bfc0d8b-ab3a-45c1-9c00-ec6a63d14566",
        "outputId": "feec9603-07a3-408e-825c-0e70af0cbd92"
      },
      "outputs": [
        {
          "name": "stdout",
          "output_type": "stream",
          "text": [
            "a\n",
            "b\n",
            "c\n",
            "d\n",
            "4\n"
          ]
        }
      ],
      "source": [
        "cnt=0\n",
        "l1=['a','b','c','d']\n",
        "for cnt, letter in enumerate(l1):\n",
        "    print(letter)\n",
        "    cnt+=1 #cnt=cnt+1\n",
        "    \n",
        "print(cnt)"
      ]
    },
    {
      "cell_type": "code",
      "execution_count": null,
      "id": "bad2303a-0d43-493b-b651-fb580b5aea94",
      "metadata": {
        "id": "bad2303a-0d43-493b-b651-fb580b5aea94"
      },
      "outputs": [],
      "source": [
        "#FUNCTIONS"
      ]
    },
    {
      "cell_type": "code",
      "execution_count": null,
      "id": "7440a6c3-f4ec-485b-ae07-55e02a2db484",
      "metadata": {
        "id": "7440a6c3-f4ec-485b-ae07-55e02a2db484"
      },
      "outputs": [],
      "source": [
        "def my_first_function():\n",
        "  '''\n",
        "  This is where we put te docstring\n",
        "  including input parameters, and output\n",
        "  '''\n",
        "  print('Hello World')"
      ]
    },
    {
      "cell_type": "code",
      "source": [
        "my_first_function()"
      ],
      "metadata": {
        "colab": {
          "base_uri": "https://localhost:8080/"
        },
        "id": "Ooj_siP2Jk54",
        "outputId": "7c097ef4-976e-479d-d2a9-7ed6304029f1"
      },
      "id": "Ooj_siP2Jk54",
      "execution_count": null,
      "outputs": [
        {
          "output_type": "stream",
          "name": "stdout",
          "text": [
            "Hello World\n"
          ]
        }
      ]
    },
    {
      "cell_type": "code",
      "source": [
        "?my_first_function"
      ],
      "metadata": {
        "id": "1OrndxjqJn5m"
      },
      "id": "1OrndxjqJn5m",
      "execution_count": null,
      "outputs": []
    },
    {
      "cell_type": "code",
      "source": [
        "?len"
      ],
      "metadata": {
        "id": "5RNZbS7KKCp1"
      },
      "id": "5RNZbS7KKCp1",
      "execution_count": null,
      "outputs": []
    },
    {
      "cell_type": "code",
      "source": [
        "def sum_up(a,b):\n",
        "    print(a+b)"
      ],
      "metadata": {
        "id": "5VZ3fEC1KNCk"
      },
      "id": "5VZ3fEC1KNCk",
      "execution_count": null,
      "outputs": []
    },
    {
      "cell_type": "code",
      "source": [
        "sum_up(1,2)"
      ],
      "metadata": {
        "colab": {
          "base_uri": "https://localhost:8080/"
        },
        "id": "LxuzZaaRKbhd",
        "outputId": "7363913c-773e-4bf7-ed9b-aa7f1edf091a"
      },
      "id": "LxuzZaaRKbhd",
      "execution_count": null,
      "outputs": [
        {
          "output_type": "stream",
          "name": "stdout",
          "text": [
            "3\n"
          ]
        }
      ]
    },
    {
      "cell_type": "code",
      "source": [
        "sum_up(b=2,a=1)"
      ],
      "metadata": {
        "colab": {
          "base_uri": "https://localhost:8080/"
        },
        "id": "ucjFEO7kKg1K",
        "outputId": "66bad8f3-132e-476e-844e-3f9124a6b574"
      },
      "id": "ucjFEO7kKg1K",
      "execution_count": null,
      "outputs": [
        {
          "output_type": "stream",
          "name": "stdout",
          "text": [
            "3\n"
          ]
        }
      ]
    },
    {
      "cell_type": "markdown",
      "source": [
        "IMPORTANDO A LIB (NUMPY)"
      ],
      "metadata": {
        "id": "GBdr-QA0OD5g"
      },
      "id": "GBdr-QA0OD5g"
    },
    {
      "cell_type": "code",
      "source": [
        "import numpy as np"
      ],
      "metadata": {
        "id": "y5d1ZQFeMx2i"
      },
      "id": "y5d1ZQFeMx2i",
      "execution_count": null,
      "outputs": []
    },
    {
      "cell_type": "code",
      "source": [
        "np.arange(3)"
      ],
      "metadata": {
        "colab": {
          "base_uri": "https://localhost:8080/"
        },
        "id": "Jq1DydZXN1y9",
        "outputId": "2deea0d1-cf44-4cc1-a256-e80bed759ea3"
      },
      "id": "Jq1DydZXN1y9",
      "execution_count": null,
      "outputs": [
        {
          "output_type": "execute_result",
          "data": {
            "text/plain": [
              "array([0, 1, 2])"
            ]
          },
          "metadata": {},
          "execution_count": 28
        }
      ]
    },
    {
      "cell_type": "code",
      "source": [
        "## para importar determinada função utilizar o from\n",
        "from numpy import arange"
      ],
      "metadata": {
        "id": "KKfbnHLVN6HU"
      },
      "id": "KKfbnHLVN6HU",
      "execution_count": null,
      "outputs": []
    },
    {
      "cell_type": "code",
      "source": [
        "arange(3)"
      ],
      "metadata": {
        "colab": {
          "base_uri": "https://localhost:8080/"
        },
        "id": "AP70Yfh6Oc2M",
        "outputId": "6a885712-4798-4147-9dab-bd702e575c2d"
      },
      "id": "AP70Yfh6Oc2M",
      "execution_count": null,
      "outputs": [
        {
          "output_type": "execute_result",
          "data": {
            "text/plain": [
              "array([0, 1, 2])"
            ]
          },
          "metadata": {},
          "execution_count": 30
        }
      ]
    },
    {
      "cell_type": "code",
      "source": [
        "## As funções Lambda são chamadas de funções anônimas, funções que o usuário não precisa definir, \n",
        "## ou seja, não vai precisar escrever a função e depois utilizá-la dentro do código."
      ],
      "metadata": {
        "id": "Az1A4LW1Oe-N"
      },
      "id": "Az1A4LW1Oe-N",
      "execution_count": null,
      "outputs": []
    },
    {
      "cell_type": "code",
      "source": [
        "def print_itself(a):\n",
        "    return a"
      ],
      "metadata": {
        "id": "Vci4vfcQP1mB"
      },
      "id": "Vci4vfcQP1mB",
      "execution_count": null,
      "outputs": []
    },
    {
      "cell_type": "code",
      "source": [
        "print_itself('Hello')"
      ],
      "metadata": {
        "colab": {
          "base_uri": "https://localhost:8080/",
          "height": 35
        },
        "id": "zTMac-22P_7J",
        "outputId": "089c5762-8d9f-4534-a201-c1cf2ca9222b"
      },
      "id": "zTMac-22P_7J",
      "execution_count": null,
      "outputs": [
        {
          "output_type": "execute_result",
          "data": {
            "text/plain": [
              "'Hello'"
            ],
            "application/vnd.google.colaboratory.intrinsic+json": {
              "type": "string"
            }
          },
          "metadata": {},
          "execution_count": 33
        }
      ]
    },
    {
      "cell_type": "code",
      "source": [
        "(lambda a:a)('Hello')"
      ],
      "metadata": {
        "colab": {
          "base_uri": "https://localhost:8080/",
          "height": 35
        },
        "id": "dXhZe_4GQC_R",
        "outputId": "44cffc71-4cdb-4e0b-c91d-19a1a3a2071d"
      },
      "id": "dXhZe_4GQC_R",
      "execution_count": null,
      "outputs": [
        {
          "output_type": "execute_result",
          "data": {
            "text/plain": [
              "'Hello'"
            ],
            "application/vnd.google.colaboratory.intrinsic+json": {
              "type": "string"
            }
          },
          "metadata": {},
          "execution_count": 36
        }
      ]
    },
    {
      "cell_type": "code",
      "source": [
        "print_itself_lambda=lambda a:a"
      ],
      "metadata": {
        "id": "Qj8DBnUdQHT6"
      },
      "id": "Qj8DBnUdQHT6",
      "execution_count": null,
      "outputs": []
    },
    {
      "cell_type": "code",
      "source": [
        "print_itself_lambda('Hello')"
      ],
      "metadata": {
        "colab": {
          "base_uri": "https://localhost:8080/",
          "height": 35
        },
        "id": "3zCweR8lQVlp",
        "outputId": "b7670ce0-fe81-4efb-cdbe-9ca1a70e49ce"
      },
      "id": "3zCweR8lQVlp",
      "execution_count": null,
      "outputs": [
        {
          "output_type": "execute_result",
          "data": {
            "text/plain": [
              "'Hello'"
            ],
            "application/vnd.google.colaboratory.intrinsic+json": {
              "type": "string"
            }
          },
          "metadata": {},
          "execution_count": 38
        }
      ]
    },
    {
      "cell_type": "code",
      "source": [
        "sum_up=lambda a=1,b=2,c=3:a+b+c"
      ],
      "metadata": {
        "id": "shGPBuXBQZjA"
      },
      "id": "shGPBuXBQZjA",
      "execution_count": null,
      "outputs": []
    },
    {
      "cell_type": "code",
      "source": [
        "sum_up()"
      ],
      "metadata": {
        "colab": {
          "base_uri": "https://localhost:8080/"
        },
        "id": "lEXqxmvdQkfL",
        "outputId": "476eed72-c316-49da-d669-9973f66bda41"
      },
      "id": "lEXqxmvdQkfL",
      "execution_count": null,
      "outputs": [
        {
          "output_type": "execute_result",
          "data": {
            "text/plain": [
              "6"
            ]
          },
          "metadata": {},
          "execution_count": 41
        }
      ]
    },
    {
      "cell_type": "code",
      "source": [
        "id_string=['a2','b1','c4','d3']"
      ],
      "metadata": {
        "id": "Sf-tQ_VXQtHa"
      },
      "id": "Sf-tQ_VXQtHa",
      "execution_count": null,
      "outputs": []
    },
    {
      "cell_type": "code",
      "source": [
        "def grab_number(x):\n",
        "    return x[1]\n",
        "\n",
        "id_string.sort(key=grab_number)\n",
        "id_string"
      ],
      "metadata": {
        "colab": {
          "base_uri": "https://localhost:8080/"
        },
        "id": "VOaPf04DSquR",
        "outputId": "48239431-4e35-417c-854b-b272cb33ff0d"
      },
      "id": "VOaPf04DSquR",
      "execution_count": null,
      "outputs": [
        {
          "output_type": "execute_result",
          "data": {
            "text/plain": [
              "['b1', 'a2', 'd3', 'c4']"
            ]
          },
          "metadata": {},
          "execution_count": 44
        }
      ]
    },
    {
      "cell_type": "code",
      "source": [
        "id_string.sort(key=lambda x:x[1])\n",
        "id_string"
      ],
      "metadata": {
        "colab": {
          "base_uri": "https://localhost:8080/"
        },
        "id": "_VaYDtb6S4W5",
        "outputId": "d7c70d3a-ab35-429a-f7e1-384ce39718d8"
      },
      "id": "_VaYDtb6S4W5",
      "execution_count": null,
      "outputs": [
        {
          "output_type": "execute_result",
          "data": {
            "text/plain": [
              "['b1', 'a2', 'd3', 'c4']"
            ]
          },
          "metadata": {},
          "execution_count": 45
        }
      ]
    },
    {
      "cell_type": "code",
      "source": [
        "## Ternary operator\n",
        "## syntax: expression 1 + IF condition ELSE + expression 2\n",
        "## SE a condição for verdadeira resultado será igual a expressão 1 senão será igual a expressão 2"
      ],
      "metadata": {
        "id": "afGzvCojTGPQ"
      },
      "id": "afGzvCojTGPQ",
      "execution_count": null,
      "outputs": []
    },
    {
      "cell_type": "code",
      "source": [
        "is_raining = False"
      ],
      "metadata": {
        "id": "hlQ8PaMwTuX5"
      },
      "id": "hlQ8PaMwTuX5",
      "execution_count": null,
      "outputs": []
    },
    {
      "cell_type": "code",
      "source": [
        "if is_raining:\n",
        "    action='Stay at home'\n",
        "else:\n",
        "  action='Go for a walk'"
      ],
      "metadata": {
        "id": "1accm6C6TzO5"
      },
      "id": "1accm6C6TzO5",
      "execution_count": null,
      "outputs": []
    },
    {
      "cell_type": "code",
      "source": [
        "action"
      ],
      "metadata": {
        "colab": {
          "base_uri": "https://localhost:8080/",
          "height": 35
        },
        "id": "2ojRoSQCUARY",
        "outputId": "eab64b31-5752-4673-a58a-26f439f4c339"
      },
      "id": "2ojRoSQCUARY",
      "execution_count": null,
      "outputs": [
        {
          "output_type": "execute_result",
          "data": {
            "text/plain": [
              "'Go for a walk'"
            ],
            "application/vnd.google.colaboratory.intrinsic+json": {
              "type": "string"
            }
          },
          "metadata": {},
          "execution_count": 52
        }
      ]
    },
    {
      "cell_type": "code",
      "source": [
        "action='Stay at home' if is_raining else 'Go for a walk'"
      ],
      "metadata": {
        "id": "b-RocTDxUBDI"
      },
      "id": "b-RocTDxUBDI",
      "execution_count": null,
      "outputs": []
    },
    {
      "cell_type": "code",
      "source": [
        "action"
      ],
      "metadata": {
        "colab": {
          "base_uri": "https://localhost:8080/",
          "height": 35
        },
        "id": "OksJbJUTUTWA",
        "outputId": "ab3783ca-e480-421c-89da-6175c4386657"
      },
      "id": "OksJbJUTUTWA",
      "execution_count": null,
      "outputs": [
        {
          "output_type": "execute_result",
          "data": {
            "text/plain": [
              "'Go for a walk'"
            ],
            "application/vnd.google.colaboratory.intrinsic+json": {
              "type": "string"
            }
          },
          "metadata": {},
          "execution_count": 54
        }
      ]
    },
    {
      "cell_type": "code",
      "source": [
        "a=2\n",
        "action = 1 if a ==1 else 2 if a==2 else 3 if a==3 else 'not number 1,2,3'"
      ],
      "metadata": {
        "id": "swCaB44CUT8A"
      },
      "id": "swCaB44CUT8A",
      "execution_count": null,
      "outputs": []
    },
    {
      "cell_type": "code",
      "source": [
        "action"
      ],
      "metadata": {
        "colab": {
          "base_uri": "https://localhost:8080/"
        },
        "id": "w_nSHeNIUu95",
        "outputId": "fa352c9f-9abe-4a25-c275-45f40be3ab4e"
      },
      "id": "w_nSHeNIUu95",
      "execution_count": null,
      "outputs": [
        {
          "output_type": "execute_result",
          "data": {
            "text/plain": [
              "2"
            ]
          },
          "metadata": {},
          "execution_count": 58
        }
      ]
    },
    {
      "cell_type": "code",
      "source": [
        "abs_value=lambda k:k if k>0 else -k"
      ],
      "metadata": {
        "id": "xO0sjT58U2Jb"
      },
      "id": "xO0sjT58U2Jb",
      "execution_count": null,
      "outputs": []
    },
    {
      "cell_type": "code",
      "source": [
        "abs_value(5)"
      ],
      "metadata": {
        "colab": {
          "base_uri": "https://localhost:8080/"
        },
        "id": "MOQ5B4N6UwBy",
        "outputId": "9fa5fcf1-f85e-42a0-e96e-9a1b4dde5c86"
      },
      "id": "MOQ5B4N6UwBy",
      "execution_count": null,
      "outputs": [
        {
          "output_type": "execute_result",
          "data": {
            "text/plain": [
              "5"
            ]
          },
          "metadata": {},
          "execution_count": 60
        }
      ]
    },
    {
      "cell_type": "code",
      "source": [
        "abs_value(-5)"
      ],
      "metadata": {
        "colab": {
          "base_uri": "https://localhost:8080/"
        },
        "id": "2n1xfg-6U-eP",
        "outputId": "bbcf3d59-cc83-49db-dcbd-63681cd1a884"
      },
      "id": "2n1xfg-6U-eP",
      "execution_count": null,
      "outputs": [
        {
          "output_type": "execute_result",
          "data": {
            "text/plain": [
              "5"
            ]
          },
          "metadata": {},
          "execution_count": 61
        }
      ]
    },
    {
      "cell_type": "markdown",
      "source": [
        "**Chapter 3 : Importing Data**\n"
      ],
      "metadata": {
        "id": "IUmsP_NnVMVi"
      },
      "id": "IUmsP_NnVMVi"
    },
    {
      "cell_type": "code",
      "source": [
        "import pandas as pd"
      ],
      "metadata": {
        "id": "xdrDKFN1VDMv"
      },
      "id": "xdrDKFN1VDMv",
      "execution_count": 1,
      "outputs": []
    },
    {
      "cell_type": "code",
      "source": [
        "s= pd.Series([1,2,3,4,5,6,7])"
      ],
      "metadata": {
        "id": "5i1QSZ9HAyy6"
      },
      "id": "5i1QSZ9HAyy6",
      "execution_count": 3,
      "outputs": []
    },
    {
      "cell_type": "code",
      "source": [
        "s"
      ],
      "metadata": {
        "colab": {
          "base_uri": "https://localhost:8080/"
        },
        "id": "eG9M9RzNA8n3",
        "outputId": "7ca4ad3d-1d54-47e2-e3c0-32921c2deeb6"
      },
      "id": "eG9M9RzNA8n3",
      "execution_count": 4,
      "outputs": [
        {
          "output_type": "execute_result",
          "data": {
            "text/plain": [
              "0    1\n",
              "1    2\n",
              "2    3\n",
              "3    4\n",
              "4    5\n",
              "5    6\n",
              "6    7\n",
              "dtype: int64"
            ]
          },
          "metadata": {},
          "execution_count": 4
        }
      ]
    },
    {
      "cell_type": "code",
      "source": [
        "index_day=['Monday','Tuesday','Wednesday','Thursday','Friday','Saturday','Sunday']\n",
        "data=[1,2,3,4,5,6,7]"
      ],
      "metadata": {
        "id": "-a_LqAEeBD4F"
      },
      "id": "-a_LqAEeBD4F",
      "execution_count": 5,
      "outputs": []
    },
    {
      "cell_type": "code",
      "source": [
        "s=pd.Series(data,index=index_day)\n",
        "s"
      ],
      "metadata": {
        "colab": {
          "base_uri": "https://localhost:8080/"
        },
        "id": "Op3heZt8Bknn",
        "outputId": "f148182c-8046-4fcf-b3d6-a47d052ef9f6"
      },
      "id": "Op3heZt8Bknn",
      "execution_count": 6,
      "outputs": [
        {
          "output_type": "execute_result",
          "data": {
            "text/plain": [
              "Monday       1\n",
              "Tuesday      2\n",
              "Wednesday    3\n",
              "Thursday     4\n",
              "Friday       5\n",
              "Saturday     6\n",
              "Sunday       7\n",
              "dtype: int64"
            ]
          },
          "metadata": {},
          "execution_count": 6
        }
      ]
    },
    {
      "cell_type": "code",
      "source": [
        "s[6]"
      ],
      "metadata": {
        "colab": {
          "base_uri": "https://localhost:8080/"
        },
        "id": "pyWsVqEbBuIQ",
        "outputId": "38bca65b-3382-41ee-986a-8897803cc16f"
      },
      "id": "pyWsVqEbBuIQ",
      "execution_count": 8,
      "outputs": [
        {
          "output_type": "execute_result",
          "data": {
            "text/plain": [
              "7"
            ]
          },
          "metadata": {},
          "execution_count": 8
        }
      ]
    },
    {
      "cell_type": "code",
      "source": [
        "s['Sunday']=8\n",
        "s"
      ],
      "metadata": {
        "colab": {
          "base_uri": "https://localhost:8080/"
        },
        "id": "1jCMJFvzDvPz",
        "outputId": "abaa64be-5a24-4024-9e96-8ca5eaafd8ce"
      },
      "id": "1jCMJFvzDvPz",
      "execution_count": 9,
      "outputs": [
        {
          "output_type": "execute_result",
          "data": {
            "text/plain": [
              "Monday       1\n",
              "Tuesday      2\n",
              "Wednesday    3\n",
              "Thursday     4\n",
              "Friday       5\n",
              "Saturday     6\n",
              "Sunday       8\n",
              "dtype: int64"
            ]
          },
          "metadata": {},
          "execution_count": 9
        }
      ]
    },
    {
      "cell_type": "code",
      "source": [
        "s.mean()"
      ],
      "metadata": {
        "colab": {
          "base_uri": "https://localhost:8080/"
        },
        "id": "--egjpylD82W",
        "outputId": "6a2a90e8-e260-4311-8c2b-d3f5896da5e7"
      },
      "id": "--egjpylD82W",
      "execution_count": 10,
      "outputs": [
        {
          "output_type": "execute_result",
          "data": {
            "text/plain": [
              "4.142857142857143"
            ]
          },
          "metadata": {},
          "execution_count": 10
        }
      ]
    },
    {
      "cell_type": "code",
      "source": [
        "s+s"
      ],
      "metadata": {
        "colab": {
          "base_uri": "https://localhost:8080/"
        },
        "id": "us0iA73uD-tm",
        "outputId": "210c26bb-c335-438c-f4d7-629bebb331f9"
      },
      "id": "us0iA73uD-tm",
      "execution_count": 11,
      "outputs": [
        {
          "output_type": "execute_result",
          "data": {
            "text/plain": [
              "Monday        2\n",
              "Tuesday       4\n",
              "Wednesday     6\n",
              "Thursday      8\n",
              "Friday       10\n",
              "Saturday     12\n",
              "Sunday       16\n",
              "dtype: int64"
            ]
          },
          "metadata": {},
          "execution_count": 11
        }
      ]
    },
    {
      "cell_type": "code",
      "source": [
        "s*3"
      ],
      "metadata": {
        "colab": {
          "base_uri": "https://localhost:8080/"
        },
        "id": "HWIlghB6EDsn",
        "outputId": "26e26419-9b8b-4777-f258-0cf045a64858"
      },
      "id": "HWIlghB6EDsn",
      "execution_count": 12,
      "outputs": [
        {
          "output_type": "execute_result",
          "data": {
            "text/plain": [
              "Monday        3\n",
              "Tuesday       6\n",
              "Wednesday     9\n",
              "Thursday     12\n",
              "Friday       15\n",
              "Saturday     18\n",
              "Sunday       24\n",
              "dtype: int64"
            ]
          },
          "metadata": {},
          "execution_count": 12
        }
      ]
    },
    {
      "cell_type": "code",
      "source": [
        "df=pd.DataFrame({'first':s,'second':s*2})\n",
        "df"
      ],
      "metadata": {
        "colab": {
          "base_uri": "https://localhost:8080/",
          "height": 269
        },
        "id": "r7SuyI3KEGCv",
        "outputId": "f134d5ac-f87f-418f-ec58-ff54f38b2eb2"
      },
      "id": "r7SuyI3KEGCv",
      "execution_count": 14,
      "outputs": [
        {
          "output_type": "execute_result",
          "data": {
            "text/plain": [
              "           first  second\n",
              "Monday         1       2\n",
              "Tuesday        2       4\n",
              "Wednesday      3       6\n",
              "Thursday       4       8\n",
              "Friday         5      10\n",
              "Saturday       6      12\n",
              "Sunday         8      16"
            ],
            "text/html": [
              "\n",
              "  <div id=\"df-82d1ae0b-a6ea-4aca-a5e9-254bc65821b1\">\n",
              "    <div class=\"colab-df-container\">\n",
              "      <div>\n",
              "<style scoped>\n",
              "    .dataframe tbody tr th:only-of-type {\n",
              "        vertical-align: middle;\n",
              "    }\n",
              "\n",
              "    .dataframe tbody tr th {\n",
              "        vertical-align: top;\n",
              "    }\n",
              "\n",
              "    .dataframe thead th {\n",
              "        text-align: right;\n",
              "    }\n",
              "</style>\n",
              "<table border=\"1\" class=\"dataframe\">\n",
              "  <thead>\n",
              "    <tr style=\"text-align: right;\">\n",
              "      <th></th>\n",
              "      <th>first</th>\n",
              "      <th>second</th>\n",
              "    </tr>\n",
              "  </thead>\n",
              "  <tbody>\n",
              "    <tr>\n",
              "      <th>Monday</th>\n",
              "      <td>1</td>\n",
              "      <td>2</td>\n",
              "    </tr>\n",
              "    <tr>\n",
              "      <th>Tuesday</th>\n",
              "      <td>2</td>\n",
              "      <td>4</td>\n",
              "    </tr>\n",
              "    <tr>\n",
              "      <th>Wednesday</th>\n",
              "      <td>3</td>\n",
              "      <td>6</td>\n",
              "    </tr>\n",
              "    <tr>\n",
              "      <th>Thursday</th>\n",
              "      <td>4</td>\n",
              "      <td>8</td>\n",
              "    </tr>\n",
              "    <tr>\n",
              "      <th>Friday</th>\n",
              "      <td>5</td>\n",
              "      <td>10</td>\n",
              "    </tr>\n",
              "    <tr>\n",
              "      <th>Saturday</th>\n",
              "      <td>6</td>\n",
              "      <td>12</td>\n",
              "    </tr>\n",
              "    <tr>\n",
              "      <th>Sunday</th>\n",
              "      <td>8</td>\n",
              "      <td>16</td>\n",
              "    </tr>\n",
              "  </tbody>\n",
              "</table>\n",
              "</div>\n",
              "      <button class=\"colab-df-convert\" onclick=\"convertToInteractive('df-82d1ae0b-a6ea-4aca-a5e9-254bc65821b1')\"\n",
              "              title=\"Convert this dataframe to an interactive table.\"\n",
              "              style=\"display:none;\">\n",
              "        \n",
              "  <svg xmlns=\"http://www.w3.org/2000/svg\" height=\"24px\"viewBox=\"0 0 24 24\"\n",
              "       width=\"24px\">\n",
              "    <path d=\"M0 0h24v24H0V0z\" fill=\"none\"/>\n",
              "    <path d=\"M18.56 5.44l.94 2.06.94-2.06 2.06-.94-2.06-.94-.94-2.06-.94 2.06-2.06.94zm-11 1L8.5 8.5l.94-2.06 2.06-.94-2.06-.94L8.5 2.5l-.94 2.06-2.06.94zm10 10l.94 2.06.94-2.06 2.06-.94-2.06-.94-.94-2.06-.94 2.06-2.06.94z\"/><path d=\"M17.41 7.96l-1.37-1.37c-.4-.4-.92-.59-1.43-.59-.52 0-1.04.2-1.43.59L10.3 9.45l-7.72 7.72c-.78.78-.78 2.05 0 2.83L4 21.41c.39.39.9.59 1.41.59.51 0 1.02-.2 1.41-.59l7.78-7.78 2.81-2.81c.8-.78.8-2.07 0-2.86zM5.41 20L4 18.59l7.72-7.72 1.47 1.35L5.41 20z\"/>\n",
              "  </svg>\n",
              "      </button>\n",
              "      \n",
              "  <style>\n",
              "    .colab-df-container {\n",
              "      display:flex;\n",
              "      flex-wrap:wrap;\n",
              "      gap: 12px;\n",
              "    }\n",
              "\n",
              "    .colab-df-convert {\n",
              "      background-color: #E8F0FE;\n",
              "      border: none;\n",
              "      border-radius: 50%;\n",
              "      cursor: pointer;\n",
              "      display: none;\n",
              "      fill: #1967D2;\n",
              "      height: 32px;\n",
              "      padding: 0 0 0 0;\n",
              "      width: 32px;\n",
              "    }\n",
              "\n",
              "    .colab-df-convert:hover {\n",
              "      background-color: #E2EBFA;\n",
              "      box-shadow: 0px 1px 2px rgba(60, 64, 67, 0.3), 0px 1px 3px 1px rgba(60, 64, 67, 0.15);\n",
              "      fill: #174EA6;\n",
              "    }\n",
              "\n",
              "    [theme=dark] .colab-df-convert {\n",
              "      background-color: #3B4455;\n",
              "      fill: #D2E3FC;\n",
              "    }\n",
              "\n",
              "    [theme=dark] .colab-df-convert:hover {\n",
              "      background-color: #434B5C;\n",
              "      box-shadow: 0px 1px 3px 1px rgba(0, 0, 0, 0.15);\n",
              "      filter: drop-shadow(0px 1px 2px rgba(0, 0, 0, 0.3));\n",
              "      fill: #FFFFFF;\n",
              "    }\n",
              "  </style>\n",
              "\n",
              "      <script>\n",
              "        const buttonEl =\n",
              "          document.querySelector('#df-82d1ae0b-a6ea-4aca-a5e9-254bc65821b1 button.colab-df-convert');\n",
              "        buttonEl.style.display =\n",
              "          google.colab.kernel.accessAllowed ? 'block' : 'none';\n",
              "\n",
              "        async function convertToInteractive(key) {\n",
              "          const element = document.querySelector('#df-82d1ae0b-a6ea-4aca-a5e9-254bc65821b1');\n",
              "          const dataTable =\n",
              "            await google.colab.kernel.invokeFunction('convertToInteractive',\n",
              "                                                     [key], {});\n",
              "          if (!dataTable) return;\n",
              "\n",
              "          const docLinkHtml = 'Like what you see? Visit the ' +\n",
              "            '<a target=\"_blank\" href=https://colab.research.google.com/notebooks/data_table.ipynb>data table notebook</a>'\n",
              "            + ' to learn more about interactive tables.';\n",
              "          element.innerHTML = '';\n",
              "          dataTable['output_type'] = 'display_data';\n",
              "          await google.colab.output.renderOutput(dataTable, element);\n",
              "          const docLink = document.createElement('div');\n",
              "          docLink.innerHTML = docLinkHtml;\n",
              "          element.appendChild(docLink);\n",
              "        }\n",
              "      </script>\n",
              "    </div>\n",
              "  </div>\n",
              "  "
            ]
          },
          "metadata": {},
          "execution_count": 14
        }
      ]
    },
    {
      "cell_type": "markdown",
      "source": [
        "**INICIO DA CRIAÇÃO DE UMA TABELA**\n",
        "\n",
        "\n",
        "*   Cria-se as colunas e posteriormente as linhas com os seus valores\n",
        "*   Por fim realiza-se a junção atraves do ***DataFrame()***\n",
        "\n"
      ],
      "metadata": {
        "id": "TZQwFgufF5DM"
      },
      "id": "TZQwFgufF5DM"
    },
    {
      "cell_type": "code",
      "source": [
        "column_names=['City','Population']\n",
        "index_country=['Japan','India','China','Brazil','Mexico']"
      ],
      "metadata": {
        "id": "5otJAM41EVZo"
      },
      "id": "5otJAM41EVZo",
      "execution_count": 15,
      "outputs": []
    },
    {
      "cell_type": "code",
      "source": [
        "row1=['Tokyo',37.4]\n",
        "row2=['Delhi',28.5]\n",
        "row3=['Shanghai',25.6]\n",
        "row4=['Sao Paulo',21.7]\n",
        "row5=['Mexico City',21.6]"
      ],
      "metadata": {
        "id": "6tXbLsPAE1ki"
      },
      "id": "6tXbLsPAE1ki",
      "execution_count": 16,
      "outputs": []
    },
    {
      "cell_type": "code",
      "source": [
        "data=[row1,row2,row3,row4,row5]\n",
        "data"
      ],
      "metadata": {
        "colab": {
          "base_uri": "https://localhost:8080/"
        },
        "id": "dVY1qFbbFf33",
        "outputId": "970f8c22-3490-4adf-ad35-2bac157a6814"
      },
      "id": "dVY1qFbbFf33",
      "execution_count": 17,
      "outputs": [
        {
          "output_type": "execute_result",
          "data": {
            "text/plain": [
              "[['Tokyo', 37.4],\n",
              " ['Delhi', 28.5],\n",
              " ['Shanghai', 25.6],\n",
              " ['Sao Paulo', 21.7],\n",
              " ['Mexico City', 21.6]]"
            ]
          },
          "metadata": {},
          "execution_count": 17
        }
      ]
    },
    {
      "cell_type": "code",
      "source": [
        "df=pd.DataFrame(data,index=index_country,columns=column_names)"
      ],
      "metadata": {
        "id": "n8icmxLHFqid"
      },
      "id": "n8icmxLHFqid",
      "execution_count": 18,
      "outputs": []
    },
    {
      "cell_type": "code",
      "source": [
        "df"
      ],
      "metadata": {
        "colab": {
          "base_uri": "https://localhost:8080/",
          "height": 206
        },
        "id": "kkAfHvs0F0vO",
        "outputId": "02824006-1185-4087-970e-689ae1f5f2e1"
      },
      "id": "kkAfHvs0F0vO",
      "execution_count": 19,
      "outputs": [
        {
          "output_type": "execute_result",
          "data": {
            "text/plain": [
              "               City  Population\n",
              "Japan         Tokyo        37.4\n",
              "India         Delhi        28.5\n",
              "China      Shanghai        25.6\n",
              "Brazil    Sao Paulo        21.7\n",
              "Mexico  Mexico City        21.6"
            ],
            "text/html": [
              "\n",
              "  <div id=\"df-c6ea7947-600b-4587-82b4-8bf7c4b382ea\">\n",
              "    <div class=\"colab-df-container\">\n",
              "      <div>\n",
              "<style scoped>\n",
              "    .dataframe tbody tr th:only-of-type {\n",
              "        vertical-align: middle;\n",
              "    }\n",
              "\n",
              "    .dataframe tbody tr th {\n",
              "        vertical-align: top;\n",
              "    }\n",
              "\n",
              "    .dataframe thead th {\n",
              "        text-align: right;\n",
              "    }\n",
              "</style>\n",
              "<table border=\"1\" class=\"dataframe\">\n",
              "  <thead>\n",
              "    <tr style=\"text-align: right;\">\n",
              "      <th></th>\n",
              "      <th>City</th>\n",
              "      <th>Population</th>\n",
              "    </tr>\n",
              "  </thead>\n",
              "  <tbody>\n",
              "    <tr>\n",
              "      <th>Japan</th>\n",
              "      <td>Tokyo</td>\n",
              "      <td>37.4</td>\n",
              "    </tr>\n",
              "    <tr>\n",
              "      <th>India</th>\n",
              "      <td>Delhi</td>\n",
              "      <td>28.5</td>\n",
              "    </tr>\n",
              "    <tr>\n",
              "      <th>China</th>\n",
              "      <td>Shanghai</td>\n",
              "      <td>25.6</td>\n",
              "    </tr>\n",
              "    <tr>\n",
              "      <th>Brazil</th>\n",
              "      <td>Sao Paulo</td>\n",
              "      <td>21.7</td>\n",
              "    </tr>\n",
              "    <tr>\n",
              "      <th>Mexico</th>\n",
              "      <td>Mexico City</td>\n",
              "      <td>21.6</td>\n",
              "    </tr>\n",
              "  </tbody>\n",
              "</table>\n",
              "</div>\n",
              "      <button class=\"colab-df-convert\" onclick=\"convertToInteractive('df-c6ea7947-600b-4587-82b4-8bf7c4b382ea')\"\n",
              "              title=\"Convert this dataframe to an interactive table.\"\n",
              "              style=\"display:none;\">\n",
              "        \n",
              "  <svg xmlns=\"http://www.w3.org/2000/svg\" height=\"24px\"viewBox=\"0 0 24 24\"\n",
              "       width=\"24px\">\n",
              "    <path d=\"M0 0h24v24H0V0z\" fill=\"none\"/>\n",
              "    <path d=\"M18.56 5.44l.94 2.06.94-2.06 2.06-.94-2.06-.94-.94-2.06-.94 2.06-2.06.94zm-11 1L8.5 8.5l.94-2.06 2.06-.94-2.06-.94L8.5 2.5l-.94 2.06-2.06.94zm10 10l.94 2.06.94-2.06 2.06-.94-2.06-.94-.94-2.06-.94 2.06-2.06.94z\"/><path d=\"M17.41 7.96l-1.37-1.37c-.4-.4-.92-.59-1.43-.59-.52 0-1.04.2-1.43.59L10.3 9.45l-7.72 7.72c-.78.78-.78 2.05 0 2.83L4 21.41c.39.39.9.59 1.41.59.51 0 1.02-.2 1.41-.59l7.78-7.78 2.81-2.81c.8-.78.8-2.07 0-2.86zM5.41 20L4 18.59l7.72-7.72 1.47 1.35L5.41 20z\"/>\n",
              "  </svg>\n",
              "      </button>\n",
              "      \n",
              "  <style>\n",
              "    .colab-df-container {\n",
              "      display:flex;\n",
              "      flex-wrap:wrap;\n",
              "      gap: 12px;\n",
              "    }\n",
              "\n",
              "    .colab-df-convert {\n",
              "      background-color: #E8F0FE;\n",
              "      border: none;\n",
              "      border-radius: 50%;\n",
              "      cursor: pointer;\n",
              "      display: none;\n",
              "      fill: #1967D2;\n",
              "      height: 32px;\n",
              "      padding: 0 0 0 0;\n",
              "      width: 32px;\n",
              "    }\n",
              "\n",
              "    .colab-df-convert:hover {\n",
              "      background-color: #E2EBFA;\n",
              "      box-shadow: 0px 1px 2px rgba(60, 64, 67, 0.3), 0px 1px 3px 1px rgba(60, 64, 67, 0.15);\n",
              "      fill: #174EA6;\n",
              "    }\n",
              "\n",
              "    [theme=dark] .colab-df-convert {\n",
              "      background-color: #3B4455;\n",
              "      fill: #D2E3FC;\n",
              "    }\n",
              "\n",
              "    [theme=dark] .colab-df-convert:hover {\n",
              "      background-color: #434B5C;\n",
              "      box-shadow: 0px 1px 3px 1px rgba(0, 0, 0, 0.15);\n",
              "      filter: drop-shadow(0px 1px 2px rgba(0, 0, 0, 0.3));\n",
              "      fill: #FFFFFF;\n",
              "    }\n",
              "  </style>\n",
              "\n",
              "      <script>\n",
              "        const buttonEl =\n",
              "          document.querySelector('#df-c6ea7947-600b-4587-82b4-8bf7c4b382ea button.colab-df-convert');\n",
              "        buttonEl.style.display =\n",
              "          google.colab.kernel.accessAllowed ? 'block' : 'none';\n",
              "\n",
              "        async function convertToInteractive(key) {\n",
              "          const element = document.querySelector('#df-c6ea7947-600b-4587-82b4-8bf7c4b382ea');\n",
              "          const dataTable =\n",
              "            await google.colab.kernel.invokeFunction('convertToInteractive',\n",
              "                                                     [key], {});\n",
              "          if (!dataTable) return;\n",
              "\n",
              "          const docLinkHtml = 'Like what you see? Visit the ' +\n",
              "            '<a target=\"_blank\" href=https://colab.research.google.com/notebooks/data_table.ipynb>data table notebook</a>'\n",
              "            + ' to learn more about interactive tables.';\n",
              "          element.innerHTML = '';\n",
              "          dataTable['output_type'] = 'display_data';\n",
              "          await google.colab.output.renderOutput(dataTable, element);\n",
              "          const docLink = document.createElement('div');\n",
              "          docLink.innerHTML = docLinkHtml;\n",
              "          element.appendChild(docLink);\n",
              "        }\n",
              "      </script>\n",
              "    </div>\n",
              "  </div>\n",
              "  "
            ]
          },
          "metadata": {},
          "execution_count": 19
        }
      ]
    },
    {
      "cell_type": "markdown",
      "source": [
        "**Outra forma de chegar a mesma criação de tabela**"
      ],
      "metadata": {
        "id": "aqlu698hGmoI"
      },
      "id": "aqlu698hGmoI"
    },
    {
      "cell_type": "code",
      "source": [
        "cities=['Tokyo','Delhi','Shanghai','Sao Paulo','Mexico City']\n",
        "population=[37.4, 28.5, 25.6, 21.7, 21.6]"
      ],
      "metadata": {
        "id": "V-YII9H9Gswl"
      },
      "id": "V-YII9H9Gswl",
      "execution_count": 21,
      "outputs": []
    },
    {
      "cell_type": "code",
      "source": [
        "dict_popu={'city':cities,'population':population}\n",
        "dict_popu"
      ],
      "metadata": {
        "colab": {
          "base_uri": "https://localhost:8080/"
        },
        "id": "uD1XwnA3G7ob",
        "outputId": "b1b783dd-9751-4368-ed91-36020ac6ee71"
      },
      "id": "uD1XwnA3G7ob",
      "execution_count": 23,
      "outputs": [
        {
          "output_type": "execute_result",
          "data": {
            "text/plain": [
              "{'city': ['Tokyo', 'Delhi', 'Shanghai', 'Sao Paulo', 'Mexico City'],\n",
              " 'population': [37.4, 28.5, 25.6, 21.7, 21.6]}"
            ]
          },
          "metadata": {},
          "execution_count": 23
        }
      ]
    },
    {
      "cell_type": "code",
      "source": [
        "df=pd.DataFrame(dict_popu,index=index_country)\n",
        "df"
      ],
      "metadata": {
        "colab": {
          "base_uri": "https://localhost:8080/",
          "height": 206
        },
        "id": "bzIwbAaqHS2F",
        "outputId": "e60fbcf7-75b7-42c1-b639-4cd6f4ca889b"
      },
      "id": "bzIwbAaqHS2F",
      "execution_count": 24,
      "outputs": [
        {
          "output_type": "execute_result",
          "data": {
            "text/plain": [
              "               city  population\n",
              "Japan         Tokyo        37.4\n",
              "India         Delhi        28.5\n",
              "China      Shanghai        25.6\n",
              "Brazil    Sao Paulo        21.7\n",
              "Mexico  Mexico City        21.6"
            ],
            "text/html": [
              "\n",
              "  <div id=\"df-3061d9af-b66d-48ee-9315-ac14b4768199\">\n",
              "    <div class=\"colab-df-container\">\n",
              "      <div>\n",
              "<style scoped>\n",
              "    .dataframe tbody tr th:only-of-type {\n",
              "        vertical-align: middle;\n",
              "    }\n",
              "\n",
              "    .dataframe tbody tr th {\n",
              "        vertical-align: top;\n",
              "    }\n",
              "\n",
              "    .dataframe thead th {\n",
              "        text-align: right;\n",
              "    }\n",
              "</style>\n",
              "<table border=\"1\" class=\"dataframe\">\n",
              "  <thead>\n",
              "    <tr style=\"text-align: right;\">\n",
              "      <th></th>\n",
              "      <th>city</th>\n",
              "      <th>population</th>\n",
              "    </tr>\n",
              "  </thead>\n",
              "  <tbody>\n",
              "    <tr>\n",
              "      <th>Japan</th>\n",
              "      <td>Tokyo</td>\n",
              "      <td>37.4</td>\n",
              "    </tr>\n",
              "    <tr>\n",
              "      <th>India</th>\n",
              "      <td>Delhi</td>\n",
              "      <td>28.5</td>\n",
              "    </tr>\n",
              "    <tr>\n",
              "      <th>China</th>\n",
              "      <td>Shanghai</td>\n",
              "      <td>25.6</td>\n",
              "    </tr>\n",
              "    <tr>\n",
              "      <th>Brazil</th>\n",
              "      <td>Sao Paulo</td>\n",
              "      <td>21.7</td>\n",
              "    </tr>\n",
              "    <tr>\n",
              "      <th>Mexico</th>\n",
              "      <td>Mexico City</td>\n",
              "      <td>21.6</td>\n",
              "    </tr>\n",
              "  </tbody>\n",
              "</table>\n",
              "</div>\n",
              "      <button class=\"colab-df-convert\" onclick=\"convertToInteractive('df-3061d9af-b66d-48ee-9315-ac14b4768199')\"\n",
              "              title=\"Convert this dataframe to an interactive table.\"\n",
              "              style=\"display:none;\">\n",
              "        \n",
              "  <svg xmlns=\"http://www.w3.org/2000/svg\" height=\"24px\"viewBox=\"0 0 24 24\"\n",
              "       width=\"24px\">\n",
              "    <path d=\"M0 0h24v24H0V0z\" fill=\"none\"/>\n",
              "    <path d=\"M18.56 5.44l.94 2.06.94-2.06 2.06-.94-2.06-.94-.94-2.06-.94 2.06-2.06.94zm-11 1L8.5 8.5l.94-2.06 2.06-.94-2.06-.94L8.5 2.5l-.94 2.06-2.06.94zm10 10l.94 2.06.94-2.06 2.06-.94-2.06-.94-.94-2.06-.94 2.06-2.06.94z\"/><path d=\"M17.41 7.96l-1.37-1.37c-.4-.4-.92-.59-1.43-.59-.52 0-1.04.2-1.43.59L10.3 9.45l-7.72 7.72c-.78.78-.78 2.05 0 2.83L4 21.41c.39.39.9.59 1.41.59.51 0 1.02-.2 1.41-.59l7.78-7.78 2.81-2.81c.8-.78.8-2.07 0-2.86zM5.41 20L4 18.59l7.72-7.72 1.47 1.35L5.41 20z\"/>\n",
              "  </svg>\n",
              "      </button>\n",
              "      \n",
              "  <style>\n",
              "    .colab-df-container {\n",
              "      display:flex;\n",
              "      flex-wrap:wrap;\n",
              "      gap: 12px;\n",
              "    }\n",
              "\n",
              "    .colab-df-convert {\n",
              "      background-color: #E8F0FE;\n",
              "      border: none;\n",
              "      border-radius: 50%;\n",
              "      cursor: pointer;\n",
              "      display: none;\n",
              "      fill: #1967D2;\n",
              "      height: 32px;\n",
              "      padding: 0 0 0 0;\n",
              "      width: 32px;\n",
              "    }\n",
              "\n",
              "    .colab-df-convert:hover {\n",
              "      background-color: #E2EBFA;\n",
              "      box-shadow: 0px 1px 2px rgba(60, 64, 67, 0.3), 0px 1px 3px 1px rgba(60, 64, 67, 0.15);\n",
              "      fill: #174EA6;\n",
              "    }\n",
              "\n",
              "    [theme=dark] .colab-df-convert {\n",
              "      background-color: #3B4455;\n",
              "      fill: #D2E3FC;\n",
              "    }\n",
              "\n",
              "    [theme=dark] .colab-df-convert:hover {\n",
              "      background-color: #434B5C;\n",
              "      box-shadow: 0px 1px 3px 1px rgba(0, 0, 0, 0.15);\n",
              "      filter: drop-shadow(0px 1px 2px rgba(0, 0, 0, 0.3));\n",
              "      fill: #FFFFFF;\n",
              "    }\n",
              "  </style>\n",
              "\n",
              "      <script>\n",
              "        const buttonEl =\n",
              "          document.querySelector('#df-3061d9af-b66d-48ee-9315-ac14b4768199 button.colab-df-convert');\n",
              "        buttonEl.style.display =\n",
              "          google.colab.kernel.accessAllowed ? 'block' : 'none';\n",
              "\n",
              "        async function convertToInteractive(key) {\n",
              "          const element = document.querySelector('#df-3061d9af-b66d-48ee-9315-ac14b4768199');\n",
              "          const dataTable =\n",
              "            await google.colab.kernel.invokeFunction('convertToInteractive',\n",
              "                                                     [key], {});\n",
              "          if (!dataTable) return;\n",
              "\n",
              "          const docLinkHtml = 'Like what you see? Visit the ' +\n",
              "            '<a target=\"_blank\" href=https://colab.research.google.com/notebooks/data_table.ipynb>data table notebook</a>'\n",
              "            + ' to learn more about interactive tables.';\n",
              "          element.innerHTML = '';\n",
              "          dataTable['output_type'] = 'display_data';\n",
              "          await google.colab.output.renderOutput(dataTable, element);\n",
              "          const docLink = document.createElement('div');\n",
              "          docLink.innerHTML = docLinkHtml;\n",
              "          element.appendChild(docLink);\n",
              "        }\n",
              "      </script>\n",
              "    </div>\n",
              "  </div>\n",
              "  "
            ]
          },
          "metadata": {},
          "execution_count": 24
        }
      ]
    },
    {
      "cell_type": "code",
      "source": [
        "df['city']"
      ],
      "metadata": {
        "colab": {
          "base_uri": "https://localhost:8080/"
        },
        "id": "6Fpnk5kuHfrN",
        "outputId": "c318e292-2c8a-4b90-c5bb-d04e0a84a43e"
      },
      "id": "6Fpnk5kuHfrN",
      "execution_count": 25,
      "outputs": [
        {
          "output_type": "execute_result",
          "data": {
            "text/plain": [
              "Japan           Tokyo\n",
              "India           Delhi\n",
              "China        Shanghai\n",
              "Brazil      Sao Paulo\n",
              "Mexico    Mexico City\n",
              "Name: city, dtype: object"
            ]
          },
          "metadata": {},
          "execution_count": 25
        }
      ]
    },
    {
      "cell_type": "code",
      "source": [],
      "metadata": {
        "id": "dlWGslxpHnJi"
      },
      "id": "dlWGslxpHnJi",
      "execution_count": null,
      "outputs": []
    }
  ],
  "metadata": {
    "kernelspec": {
      "display_name": "Python 3 (ipykernel)",
      "language": "python",
      "name": "python3"
    },
    "language_info": {
      "codemirror_mode": {
        "name": "ipython",
        "version": 3
      },
      "file_extension": ".py",
      "mimetype": "text/x-python",
      "name": "python",
      "nbconvert_exporter": "python",
      "pygments_lexer": "ipython3",
      "version": "3.9.13"
    },
    "colab": {
      "provenance": [],
      "include_colab_link": true
    }
  },
  "nbformat": 4,
  "nbformat_minor": 5
}