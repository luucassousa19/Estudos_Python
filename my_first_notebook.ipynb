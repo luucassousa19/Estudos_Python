{
  "cells": [
    {
      "cell_type": "markdown",
      "metadata": {
        "id": "view-in-github",
        "colab_type": "text"
      },
      "source": [
        "<a href=\"https://colab.research.google.com/github/luucassousa19/Estudos_Python/blob/master/my_first_notebook.ipynb\" target=\"_parent\"><img src=\"https://colab.research.google.com/assets/colab-badge.svg\" alt=\"Open In Colab\"/></a>"
      ]
    },
    {
      "cell_type": "code",
      "execution_count": null,
      "id": "aa59e8f2-ae3b-4336-8e5b-bc340d1a87eb",
      "metadata": {
        "id": "aa59e8f2-ae3b-4336-8e5b-bc340d1a87eb",
        "outputId": "5441194a-008f-4457-e647-7de0e0bc56fc"
      },
      "outputs": [
        {
          "name": "stdout",
          "output_type": "stream",
          "text": [
            "Hello World\n"
          ]
        }
      ],
      "source": [
        "print('Hello World')"
      ]
    },
    {
      "cell_type": "markdown",
      "id": "374974b3-ecfa-416d-8676-141fb59ec05a",
      "metadata": {
        "id": "374974b3-ecfa-416d-8676-141fb59ec05a"
      },
      "source": [
        "**print('Hello WORLD')**"
      ]
    },
    {
      "cell_type": "code",
      "execution_count": null,
      "id": "796439e6-e2d4-4e88-be5f-b62605f59906",
      "metadata": {
        "id": "796439e6-e2d4-4e88-be5f-b62605f59906"
      },
      "outputs": [],
      "source": [
        "##Chapter 2 ('Python Crash Course')##"
      ]
    },
    {
      "cell_type": "code",
      "execution_count": null,
      "id": "83bb75cd-588d-4d4a-a5fb-2a1ecffda9f2",
      "metadata": {
        "id": "83bb75cd-588d-4d4a-a5fb-2a1ecffda9f2"
      },
      "outputs": [],
      "source": [
        "l1=[1,2,3]\n",
        "l2=[1,'hello','test',2.6]\n",
        "lcaderno=[1,2,3,4,5,6,7,8]"
      ]
    },
    {
      "cell_type": "code",
      "execution_count": null,
      "id": "dfda5a87-251a-4866-8279-665e029ba05c",
      "metadata": {
        "id": "dfda5a87-251a-4866-8279-665e029ba05c",
        "outputId": "66a9cce3-a457-4b9b-993e-f8ea6e7ba463"
      },
      "outputs": [
        {
          "data": {
            "text/plain": [
              "1"
            ]
          },
          "execution_count": 18,
          "metadata": {},
          "output_type": "execute_result"
        }
      ],
      "source": [
        "l1[0]"
      ]
    },
    {
      "cell_type": "code",
      "execution_count": null,
      "id": "12011149-6151-4a39-b96e-7ab6b86bc0a6",
      "metadata": {
        "id": "12011149-6151-4a39-b96e-7ab6b86bc0a6",
        "outputId": "8dae1aa6-2315-4f34-ab03-60f7d5328f5c"
      },
      "outputs": [
        {
          "data": {
            "text/plain": [
              "2"
            ]
          },
          "execution_count": 19,
          "metadata": {},
          "output_type": "execute_result"
        }
      ],
      "source": [
        "l1[1]"
      ]
    },
    {
      "cell_type": "code",
      "execution_count": null,
      "id": "629fbef4-fbf6-4c60-a386-5afdea1706e5",
      "metadata": {
        "id": "629fbef4-fbf6-4c60-a386-5afdea1706e5",
        "outputId": "2b3c4715-867e-493b-b95b-20a4c3176d05"
      },
      "outputs": [
        {
          "data": {
            "text/plain": [
              "3"
            ]
          },
          "execution_count": 31,
          "metadata": {},
          "output_type": "execute_result"
        }
      ],
      "source": [
        "l1[2]"
      ]
    },
    {
      "cell_type": "code",
      "execution_count": null,
      "id": "cb10cb67-0c05-4917-aae5-221847fab1e4",
      "metadata": {
        "id": "cb10cb67-0c05-4917-aae5-221847fab1e4",
        "outputId": "e52dd851-8294-4750-b4d6-5880f476a2a6"
      },
      "outputs": [
        {
          "data": {
            "text/plain": [
              "[2, 3]"
            ]
          },
          "execution_count": 32,
          "metadata": {},
          "output_type": "execute_result"
        }
      ],
      "source": [
        "l1[1:]"
      ]
    },
    {
      "cell_type": "code",
      "execution_count": null,
      "id": "fa38f81b-1395-476f-ba1d-db233b094d81",
      "metadata": {
        "id": "fa38f81b-1395-476f-ba1d-db233b094d81",
        "outputId": "867c1b38-987e-4b69-b9ea-732bf2f26ef2"
      },
      "outputs": [
        {
          "data": {
            "text/plain": [
              "[2, 3, 4, 5, 6, 7, 8]"
            ]
          },
          "execution_count": 23,
          "metadata": {},
          "output_type": "execute_result"
        }
      ],
      "source": [
        "lcaderno[1:]"
      ]
    },
    {
      "cell_type": "code",
      "execution_count": null,
      "id": "49c82faf-fd8c-479b-a360-e3577e33c720",
      "metadata": {
        "id": "49c82faf-fd8c-479b-a360-e3577e33c720",
        "outputId": "5f9c4447-60c9-45be-a0ee-ec2dffabaae4"
      },
      "outputs": [
        {
          "data": {
            "text/plain": [
              "4"
            ]
          },
          "execution_count": 25,
          "metadata": {},
          "output_type": "execute_result"
        }
      ],
      "source": [
        "len(l2)"
      ]
    },
    {
      "cell_type": "code",
      "execution_count": null,
      "id": "c1f745d7-4509-4fcd-ab3b-a866b8821781",
      "metadata": {
        "id": "c1f745d7-4509-4fcd-ab3b-a866b8821781",
        "outputId": "de16196f-c380-4d81-e94f-b346e325069b"
      },
      "outputs": [
        {
          "data": {
            "text/plain": [
              "10"
            ]
          },
          "execution_count": 27,
          "metadata": {},
          "output_type": "execute_result"
        }
      ],
      "source": [
        "len(l1)"
      ]
    },
    {
      "cell_type": "code",
      "execution_count": null,
      "id": "2df13f34-2e04-45a2-a13b-4cc4d1f3d5d8",
      "metadata": {
        "id": "2df13f34-2e04-45a2-a13b-4cc4d1f3d5d8",
        "outputId": "4354c909-768c-4574-f52f-0190185154a0"
      },
      "outputs": [
        {
          "data": {
            "text/plain": [
              "8"
            ]
          },
          "execution_count": 28,
          "metadata": {},
          "output_type": "execute_result"
        }
      ],
      "source": [
        "len(lcaderno)"
      ]
    },
    {
      "cell_type": "code",
      "execution_count": null,
      "id": "fec96342-3e74-444e-ab2a-f82ce6c3a2de",
      "metadata": {
        "id": "fec96342-3e74-444e-ab2a-f82ce6c3a2de",
        "outputId": "c2807d5b-af7a-4272-bd27-c2c3e96b9bca"
      },
      "outputs": [
        {
          "data": {
            "text/plain": [
              "[1, 2, 3, 1, 'hello', 'test', 2.6]"
            ]
          },
          "execution_count": 33,
          "metadata": {},
          "output_type": "execute_result"
        }
      ],
      "source": [
        "l1 + l2"
      ]
    },
    {
      "cell_type": "code",
      "execution_count": null,
      "id": "adc2a385-978c-4c5f-aac9-309b9f5bf49f",
      "metadata": {
        "id": "adc2a385-978c-4c5f-aac9-309b9f5bf49f"
      },
      "outputs": [],
      "source": [
        "l1.append(4)"
      ]
    },
    {
      "cell_type": "code",
      "execution_count": null,
      "id": "83aca9b2-5da4-4499-9151-d884bf86d337",
      "metadata": {
        "id": "83aca9b2-5da4-4499-9151-d884bf86d337",
        "outputId": "0250c0a9-a443-4344-96bc-95ed4a3d9084"
      },
      "outputs": [
        {
          "data": {
            "text/plain": [
              "[1, 2, 3, 4]"
            ]
          },
          "execution_count": 38,
          "metadata": {},
          "output_type": "execute_result"
        }
      ],
      "source": [
        "l1"
      ]
    },
    {
      "cell_type": "code",
      "execution_count": null,
      "id": "7957fd5d-d539-42d6-84ca-253690d4a50d",
      "metadata": {
        "id": "7957fd5d-d539-42d6-84ca-253690d4a50d",
        "outputId": "76adf56a-1cbf-49d2-8b11-c5e07fea587b"
      },
      "outputs": [
        {
          "data": {
            "text/plain": [
              "4"
            ]
          },
          "execution_count": 39,
          "metadata": {},
          "output_type": "execute_result"
        }
      ],
      "source": [
        "l1.pop()"
      ]
    },
    {
      "cell_type": "code",
      "execution_count": null,
      "id": "4de13dda-4d90-4b6d-bb06-2d2330034921",
      "metadata": {
        "id": "4de13dda-4d90-4b6d-bb06-2d2330034921",
        "outputId": "ec1bbc1f-1a4c-4004-a82e-670d31e95ca8"
      },
      "outputs": [
        {
          "data": {
            "text/plain": [
              "[1, 2, 3]"
            ]
          },
          "execution_count": 40,
          "metadata": {},
          "output_type": "execute_result"
        }
      ],
      "source": [
        "l1"
      ]
    },
    {
      "cell_type": "code",
      "execution_count": null,
      "id": "8e5c7be3-34c2-4781-ad73-7760e17cf074",
      "metadata": {
        "id": "8e5c7be3-34c2-4781-ad73-7760e17cf074"
      },
      "outputs": [],
      "source": [
        "new_list=['a','e','x','b','c']\n",
        "num_list=[2,1,5,3]"
      ]
    },
    {
      "cell_type": "code",
      "execution_count": null,
      "id": "f091e537-5cb7-4c1c-95a2-c7e0904ae4f9",
      "metadata": {
        "id": "f091e537-5cb7-4c1c-95a2-c7e0904ae4f9"
      },
      "outputs": [],
      "source": [
        "new_list.sort()\n",
        "num_list.sort()"
      ]
    },
    {
      "cell_type": "code",
      "execution_count": null,
      "id": "9a0f2686-ce58-4859-be17-803d8fcdead7",
      "metadata": {
        "id": "9a0f2686-ce58-4859-be17-803d8fcdead7",
        "outputId": "6c661c11-2e22-48bb-bad5-ab08fae309bc"
      },
      "outputs": [
        {
          "name": "stdout",
          "output_type": "stream",
          "text": [
            "['a', 'b', 'c', 'e', 'x']\n",
            "[1, 2, 3, 5]\n"
          ]
        }
      ],
      "source": [
        "print(new_list)\n",
        "print(num_list)"
      ]
    },
    {
      "cell_type": "code",
      "execution_count": null,
      "id": "fc68caf1-7d21-4e44-8916-d9d54fe74295",
      "metadata": {
        "id": "fc68caf1-7d21-4e44-8916-d9d54fe74295",
        "outputId": "ae4f1233-6662-48ec-f190-aa5ea3de8c62"
      },
      "outputs": [
        {
          "data": {
            "text/plain": [
              "1"
            ]
          },
          "execution_count": 44,
          "metadata": {},
          "output_type": "execute_result"
        }
      ],
      "source": [
        "min(num_list)"
      ]
    },
    {
      "cell_type": "code",
      "execution_count": null,
      "id": "4a856ad1-0edf-45be-a057-aac6f928334e",
      "metadata": {
        "id": "4a856ad1-0edf-45be-a057-aac6f928334e",
        "outputId": "415b34f6-a828-47ef-b832-48f27ea7bda3"
      },
      "outputs": [
        {
          "data": {
            "text/plain": [
              "5"
            ]
          },
          "execution_count": 45,
          "metadata": {},
          "output_type": "execute_result"
        }
      ],
      "source": [
        "max(num_list)"
      ]
    },
    {
      "cell_type": "code",
      "execution_count": null,
      "id": "46d0e77e-503f-482c-a7b8-156342f9800b",
      "metadata": {
        "id": "46d0e77e-503f-482c-a7b8-156342f9800b"
      },
      "outputs": [],
      "source": [
        "s1={1,2,3}"
      ]
    },
    {
      "cell_type": "code",
      "execution_count": null,
      "id": "89d8ab87-3cf2-4581-8e5c-59e13e61f58e",
      "metadata": {
        "id": "89d8ab87-3cf2-4581-8e5c-59e13e61f58e"
      },
      "outputs": [],
      "source": [
        "s2=set([1,2,3,5])"
      ]
    },
    {
      "cell_type": "code",
      "execution_count": null,
      "id": "c80b3333-bd05-4395-8433-0523c57fd7e2",
      "metadata": {
        "id": "c80b3333-bd05-4395-8433-0523c57fd7e2",
        "outputId": "4dbae4e3-bc21-4167-c581-feffeb71b895"
      },
      "outputs": [
        {
          "data": {
            "text/plain": [
              "set"
            ]
          },
          "execution_count": 48,
          "metadata": {},
          "output_type": "execute_result"
        }
      ],
      "source": [
        "type(s2)"
      ]
    },
    {
      "cell_type": "code",
      "execution_count": null,
      "id": "8990f90e-0314-47a5-a3d9-ecda3ed2aabc",
      "metadata": {
        "id": "8990f90e-0314-47a5-a3d9-ecda3ed2aabc"
      },
      "outputs": [],
      "source": [
        "s1.add(4)"
      ]
    },
    {
      "cell_type": "code",
      "execution_count": null,
      "id": "780d3f19-bb09-4436-8ff6-9a98c37504e5",
      "metadata": {
        "id": "780d3f19-bb09-4436-8ff6-9a98c37504e5",
        "outputId": "96cdd6aa-b658-4e78-fe92-de5a49afef10"
      },
      "outputs": [
        {
          "data": {
            "text/plain": [
              "{1, 2, 3, 4}"
            ]
          },
          "execution_count": 50,
          "metadata": {},
          "output_type": "execute_result"
        }
      ],
      "source": [
        "s1"
      ]
    },
    {
      "cell_type": "code",
      "execution_count": null,
      "id": "5287a232-f2aa-4184-8d83-ea7953ecebbc",
      "metadata": {
        "id": "5287a232-f2aa-4184-8d83-ea7953ecebbc"
      },
      "outputs": [],
      "source": [
        "s1.add(2)"
      ]
    },
    {
      "cell_type": "code",
      "execution_count": null,
      "id": "75cc555d-ba86-4d09-a420-4c757949cec1",
      "metadata": {
        "id": "75cc555d-ba86-4d09-a420-4c757949cec1",
        "outputId": "8f44ef99-02a7-48ab-b5f8-64526e7da236"
      },
      "outputs": [
        {
          "data": {
            "text/plain": [
              "{1, 2, 3, 4}"
            ]
          },
          "execution_count": 52,
          "metadata": {},
          "output_type": "execute_result"
        }
      ],
      "source": [
        "s1"
      ]
    },
    {
      "cell_type": "code",
      "execution_count": null,
      "id": "915027ad-1c95-4c53-b8fb-4e14fa0fb61c",
      "metadata": {
        "id": "915027ad-1c95-4c53-b8fb-4e14fa0fb61c",
        "outputId": "c3707d05-59d2-49f6-eb66-d21807181849"
      },
      "outputs": [
        {
          "data": {
            "text/plain": [
              "{4}"
            ]
          },
          "execution_count": 53,
          "metadata": {},
          "output_type": "execute_result"
        }
      ],
      "source": [
        "s1-s2"
      ]
    },
    {
      "cell_type": "code",
      "execution_count": null,
      "id": "b26492c9-5bdd-4b70-8663-91223c943083",
      "metadata": {
        "id": "b26492c9-5bdd-4b70-8663-91223c943083",
        "outputId": "1a7e1d9f-b9ea-46da-b093-1af6571b0a8c"
      },
      "outputs": [
        {
          "data": {
            "text/plain": [
              "{1, 2, 3}"
            ]
          },
          "execution_count": 54,
          "metadata": {},
          "output_type": "execute_result"
        }
      ],
      "source": [
        "s1&s2"
      ]
    },
    {
      "cell_type": "code",
      "execution_count": null,
      "id": "290c816a-648a-45de-83e1-f78e2957be33",
      "metadata": {
        "id": "290c816a-648a-45de-83e1-f78e2957be33",
        "outputId": "2b102500-a765-4058-b4cf-bde5822750e1"
      },
      "outputs": [
        {
          "data": {
            "text/plain": [
              "{1, 2, 3, 4, 5}"
            ]
          },
          "execution_count": 55,
          "metadata": {},
          "output_type": "execute_result"
        }
      ],
      "source": [
        "s1|s2"
      ]
    },
    {
      "cell_type": "code",
      "execution_count": null,
      "id": "40400c64-3be6-4f0e-8c25-90f087cadcdb",
      "metadata": {
        "id": "40400c64-3be6-4f0e-8c25-90f087cadcdb"
      },
      "outputs": [],
      "source": [
        "d1={'k1':'value1','k2':'value2'}"
      ]
    },
    {
      "cell_type": "code",
      "execution_count": null,
      "id": "bed6e35b-3f66-4994-b96f-dc7adc34eed5",
      "metadata": {
        "id": "bed6e35b-3f66-4994-b96f-dc7adc34eed5",
        "outputId": "6138cbfc-8551-4040-ae13-8534b9d9042d"
      },
      "outputs": [
        {
          "data": {
            "text/plain": [
              "'value1'"
            ]
          },
          "execution_count": 58,
          "metadata": {},
          "output_type": "execute_result"
        }
      ],
      "source": [
        "d1['k1']"
      ]
    },
    {
      "cell_type": "code",
      "execution_count": null,
      "id": "26f998ab-9eb7-4e6c-b674-7f59ba676f1c",
      "metadata": {
        "id": "26f998ab-9eb7-4e6c-b674-7f59ba676f1c"
      },
      "outputs": [],
      "source": [
        "d2={'k1':123,'k2':[2,3,4],'k3':{'insidekey':100}}"
      ]
    },
    {
      "cell_type": "code",
      "execution_count": null,
      "id": "61115a15-c323-4586-9176-2aabfa24e4fb",
      "metadata": {
        "id": "61115a15-c323-4586-9176-2aabfa24e4fb",
        "outputId": "0da2ca92-e1fd-48a1-fb95-8ee3285ee325"
      },
      "outputs": [
        {
          "data": {
            "text/plain": [
              "[2, 3, 4]"
            ]
          },
          "execution_count": 60,
          "metadata": {},
          "output_type": "execute_result"
        }
      ],
      "source": [
        "d2['k2']"
      ]
    },
    {
      "cell_type": "code",
      "execution_count": null,
      "id": "6095d6c1-fd28-4a1d-a395-532a8fb49f35",
      "metadata": {
        "id": "6095d6c1-fd28-4a1d-a395-532a8fb49f35",
        "outputId": "607e55fd-073a-4f34-a09c-0996fced252b"
      },
      "outputs": [
        {
          "data": {
            "text/plain": [
              "100"
            ]
          },
          "execution_count": 62,
          "metadata": {},
          "output_type": "execute_result"
        }
      ],
      "source": [
        "d2['k3']['insidekey']"
      ]
    },
    {
      "cell_type": "code",
      "execution_count": null,
      "id": "5332ad11-df2c-47e5-9dc6-a8f5527b5de9",
      "metadata": {
        "id": "5332ad11-df2c-47e5-9dc6-a8f5527b5de9"
      },
      "outputs": [],
      "source": [
        "d2['k4']=200"
      ]
    },
    {
      "cell_type": "code",
      "execution_count": null,
      "id": "99fff29e-a084-4b42-8df8-c31f1226f020",
      "metadata": {
        "id": "99fff29e-a084-4b42-8df8-c31f1226f020",
        "outputId": "cfada977-187b-4b58-eacc-5eeeadfe31d0"
      },
      "outputs": [
        {
          "data": {
            "text/plain": [
              "{'k1': 123, 'k2': [2, 3, 4], 'k3': {'insidekey': 100}, 'k4': 200}"
            ]
          },
          "execution_count": 64,
          "metadata": {},
          "output_type": "execute_result"
        }
      ],
      "source": [
        "d2"
      ]
    },
    {
      "cell_type": "code",
      "execution_count": null,
      "id": "2e4892ba-d152-4d57-9f5c-2e5f2483105d",
      "metadata": {
        "id": "2e4892ba-d152-4d57-9f5c-2e5f2483105d",
        "outputId": "0996df21-3176-4ded-8278-25e73d936423"
      },
      "outputs": [
        {
          "data": {
            "text/plain": [
              "False"
            ]
          },
          "execution_count": 65,
          "metadata": {},
          "output_type": "execute_result"
        }
      ],
      "source": [
        "1==0"
      ]
    },
    {
      "cell_type": "code",
      "execution_count": null,
      "id": "ff842aaa-346d-4ece-90f6-727184b1f337",
      "metadata": {
        "id": "ff842aaa-346d-4ece-90f6-727184b1f337",
        "outputId": "e63ed1c0-7058-48a9-fb49-374772b50422"
      },
      "outputs": [
        {
          "data": {
            "text/plain": [
              "True"
            ]
          },
          "execution_count": 66,
          "metadata": {},
          "output_type": "execute_result"
        }
      ],
      "source": [
        "1==1"
      ]
    },
    {
      "cell_type": "code",
      "execution_count": null,
      "id": "958f8f98-56ad-4c39-845e-27503a66617c",
      "metadata": {
        "id": "958f8f98-56ad-4c39-845e-27503a66617c",
        "outputId": "912dbbcf-0d51-4fe9-c12d-a60d24536135"
      },
      "outputs": [
        {
          "data": {
            "text/plain": [
              "False"
            ]
          },
          "execution_count": 67,
          "metadata": {},
          "output_type": "execute_result"
        }
      ],
      "source": [
        "'Hello'=='hello'"
      ]
    },
    {
      "cell_type": "code",
      "execution_count": null,
      "id": "c44bef36-892f-4319-83bc-b997ec73e440",
      "metadata": {
        "id": "c44bef36-892f-4319-83bc-b997ec73e440",
        "outputId": "e261a4cd-fcf9-4df3-9417-235ffa2b7533"
      },
      "outputs": [
        {
          "data": {
            "text/plain": [
              "False"
            ]
          },
          "execution_count": 68,
          "metadata": {},
          "output_type": "execute_result"
        }
      ],
      "source": [
        "'2'==2"
      ]
    },
    {
      "cell_type": "code",
      "execution_count": null,
      "id": "aacde1ae-8706-4e6e-93d5-a93fa1f67d4e",
      "metadata": {
        "id": "aacde1ae-8706-4e6e-93d5-a93fa1f67d4e",
        "outputId": "9c4006d7-d838-46c5-e284-ccaca518489d"
      },
      "outputs": [
        {
          "data": {
            "text/plain": [
              "True"
            ]
          },
          "execution_count": 69,
          "metadata": {},
          "output_type": "execute_result"
        }
      ],
      "source": [
        "1<3"
      ]
    },
    {
      "cell_type": "code",
      "execution_count": null,
      "id": "727bc1e7-f604-4c02-8721-d933bcc7cf68",
      "metadata": {
        "id": "727bc1e7-f604-4c02-8721-d933bcc7cf68",
        "outputId": "f85b16ac-8152-4ee6-d34d-043d178c18a5"
      },
      "outputs": [
        {
          "data": {
            "text/plain": [
              "False"
            ]
          },
          "execution_count": 70,
          "metadata": {},
          "output_type": "execute_result"
        }
      ],
      "source": [
        "1>3"
      ]
    },
    {
      "cell_type": "code",
      "execution_count": null,
      "id": "1acca268-bdd4-4dee-b695-9bcbb6f8c65d",
      "metadata": {
        "id": "1acca268-bdd4-4dee-b695-9bcbb6f8c65d",
        "outputId": "91a7e1a6-2670-434f-f9a4-44d2c2629087"
      },
      "outputs": [
        {
          "data": {
            "text/plain": [
              "True"
            ]
          },
          "execution_count": 71,
          "metadata": {},
          "output_type": "execute_result"
        }
      ],
      "source": [
        "2<=2"
      ]
    },
    {
      "cell_type": "code",
      "execution_count": null,
      "id": "f3acbeb7-398f-4507-8d6b-f247d72871dd",
      "metadata": {
        "id": "f3acbeb7-398f-4507-8d6b-f247d72871dd",
        "outputId": "cd42bf01-6f1a-4640-e65d-3a556e9b8adc"
      },
      "outputs": [
        {
          "data": {
            "text/plain": [
              "True"
            ]
          },
          "execution_count": 72,
          "metadata": {},
          "output_type": "execute_result"
        }
      ],
      "source": [
        "1!=2"
      ]
    },
    {
      "cell_type": "code",
      "execution_count": null,
      "id": "39e8fcd6-a548-4e91-b246-c32cc16d0325",
      "metadata": {
        "id": "39e8fcd6-a548-4e91-b246-c32cc16d0325",
        "outputId": "1fe49a03-b115-4a05-8fb2-eea66dd0d3f1"
      },
      "outputs": [
        {
          "data": {
            "text/plain": [
              "True"
            ]
          },
          "execution_count": 1,
          "metadata": {},
          "output_type": "execute_result"
        }
      ],
      "source": [
        "1==1"
      ]
    },
    {
      "cell_type": "code",
      "execution_count": null,
      "id": "8c4b3275-77f8-4615-a852-0b9def039950",
      "metadata": {
        "id": "8c4b3275-77f8-4615-a852-0b9def039950",
        "outputId": "8fa8c2ce-7ae1-4441-99d8-a36450bf8607"
      },
      "outputs": [
        {
          "data": {
            "text/plain": [
              "False"
            ]
          },
          "execution_count": 1,
          "metadata": {},
          "output_type": "execute_result"
        }
      ],
      "source": [
        "'data' not in 'data science'"
      ]
    },
    {
      "cell_type": "code",
      "execution_count": null,
      "id": "74fd5609-369f-4487-92bd-82c75094725d",
      "metadata": {
        "id": "74fd5609-369f-4487-92bd-82c75094725d",
        "outputId": "53ab2c6a-3836-4aff-ef11-08b0b1ab04a4"
      },
      "outputs": [
        {
          "data": {
            "text/plain": [
              "True"
            ]
          },
          "execution_count": 2,
          "metadata": {},
          "output_type": "execute_result"
        }
      ],
      "source": [
        "'x' in ['x','s']"
      ]
    },
    {
      "cell_type": "code",
      "execution_count": null,
      "id": "25ea7aa0-26d5-45f5-b4de-8d24febc3264",
      "metadata": {
        "id": "25ea7aa0-26d5-45f5-b4de-8d24febc3264"
      },
      "outputs": [],
      "source": [
        "import pandas as pd"
      ]
    },
    {
      "cell_type": "code",
      "execution_count": null,
      "id": "26cafb9c-c47a-4ed8-a527-cac11a8e16ec",
      "metadata": {
        "id": "26cafb9c-c47a-4ed8-a527-cac11a8e16ec",
        "outputId": "5498eab2-61a6-40a2-ab6c-6dc539200661"
      },
      "outputs": [
        {
          "name": "stdout",
          "output_type": "stream",
          "text": [
            "this is true\n"
          ]
        }
      ],
      "source": [
        "if 2==2:\n",
        "    print('this is true')"
      ]
    },
    {
      "cell_type": "code",
      "execution_count": null,
      "id": "0476892d-6819-4853-9e7d-75e11a353582",
      "metadata": {
        "id": "0476892d-6819-4853-9e7d-75e11a353582",
        "outputId": "ae9e3b5b-07db-4092-f7cb-56a725494244"
      },
      "outputs": [
        {
          "name": "stdout",
          "output_type": "stream",
          "text": [
            "Let's go skiing\n"
          ]
        }
      ],
      "source": [
        "weather='snowing'\n",
        "if weather=='sunny':\n",
        "    print(\"Let's go to the park.\")\n",
        "elif weather=='cloudy':\n",
        "    print('maybe we can go to the park, what do you think?')\n",
        "elif weather=='snowing':\n",
        "    print(\"Let's go skiing\")\n",
        "else:\n",
        "    print(\"Let's stay at home.\")"
      ]
    },
    {
      "cell_type": "code",
      "execution_count": null,
      "id": "8b2cea40-95f4-4dd2-9a16-93292e7eb0b1",
      "metadata": {
        "id": "8b2cea40-95f4-4dd2-9a16-93292e7eb0b1"
      },
      "outputs": [],
      "source": [
        "l1=[1,2,3,4,5,6]"
      ]
    },
    {
      "cell_type": "code",
      "execution_count": null,
      "id": "ac6c16d2-9baa-48ce-8d7e-47009c052552",
      "metadata": {
        "id": "ac6c16d2-9baa-48ce-8d7e-47009c052552",
        "outputId": "9aba3e35-6d83-4c63-f81d-aee16cf6393b"
      },
      "outputs": [
        {
          "name": "stdout",
          "output_type": "stream",
          "text": [
            "1\n",
            "2\n",
            "3\n",
            "4\n",
            "5\n",
            "6\n"
          ]
        }
      ],
      "source": [
        "for e in l1:\n",
        "    print(e)"
      ]
    },
    {
      "cell_type": "code",
      "execution_count": null,
      "id": "2dff95a2-af97-4490-a934-c0b2f6522eeb",
      "metadata": {
        "id": "2dff95a2-af97-4490-a934-c0b2f6522eeb",
        "outputId": "1b5f0f8f-9e4b-4b21-91df-ddcaebab766f"
      },
      "outputs": [
        {
          "name": "stdout",
          "output_type": "stream",
          "text": [
            "1 is not an enven number\n",
            "2\n",
            "3 is not an enven number\n",
            "4\n",
            "5 is not an enven number\n",
            "6\n"
          ]
        }
      ],
      "source": [
        "for number in l1:\n",
        "    if number%2==0:\n",
        "        print(number)\n",
        "    else:\n",
        "        print(f'{number} is not an enven number')"
      ]
    },
    {
      "cell_type": "code",
      "execution_count": null,
      "id": "8998dc00-bb09-4902-be3b-e7b2a12855c7",
      "metadata": {
        "id": "8998dc00-bb09-4902-be3b-e7b2a12855c7"
      },
      "outputs": [],
      "source": [
        "tot_num=0\n",
        "for e in l1:\n",
        "    tot_num=tot_num+e"
      ]
    },
    {
      "cell_type": "code",
      "execution_count": null,
      "id": "ae87fa5e-ac7c-4dcc-9d72-2ebc3556c03c",
      "metadata": {
        "id": "ae87fa5e-ac7c-4dcc-9d72-2ebc3556c03c",
        "outputId": "9d37a36f-e3d2-4b95-8e78-ce0de59909c0"
      },
      "outputs": [
        {
          "data": {
            "text/plain": [
              "21"
            ]
          },
          "execution_count": 18,
          "metadata": {},
          "output_type": "execute_result"
        }
      ],
      "source": [
        "tot_num"
      ]
    },
    {
      "cell_type": "code",
      "execution_count": null,
      "id": "3218804e-21db-4502-b4f1-0fc5de96e7fc",
      "metadata": {
        "id": "3218804e-21db-4502-b4f1-0fc5de96e7fc",
        "outputId": "77cb4a8c-8999-4d8c-800c-aa7b8c0b883f"
      },
      "outputs": [
        {
          "data": {
            "text/plain": [
              "[1, 2, 3, 4, 5, 6]"
            ]
          },
          "execution_count": 19,
          "metadata": {},
          "output_type": "execute_result"
        }
      ],
      "source": [
        "l1"
      ]
    },
    {
      "cell_type": "code",
      "execution_count": null,
      "id": "7a2fccf9-6669-40a4-b8b0-a9bbebc7dbe5",
      "metadata": {
        "id": "7a2fccf9-6669-40a4-b8b0-a9bbebc7dbe5"
      },
      "outputs": [],
      "source": [
        "s1='data science'"
      ]
    },
    {
      "cell_type": "code",
      "execution_count": null,
      "id": "5f7244b5-a9f6-4378-a623-aa8e67617813",
      "metadata": {
        "id": "5f7244b5-a9f6-4378-a623-aa8e67617813"
      },
      "outputs": [],
      "source": [
        "for x in s1:\n",
        "    print(x)"
      ]
    },
    {
      "cell_type": "code",
      "execution_count": null,
      "id": "b6e6c248-83af-49c1-885e-9ba5804e030e",
      "metadata": {
        "id": "b6e6c248-83af-49c1-885e-9ba5804e030e"
      },
      "outputs": [],
      "source": [
        "l2=[(1,2),(3,4),(5,6)]"
      ]
    },
    {
      "cell_type": "code",
      "execution_count": null,
      "id": "d96bcb35-c212-4c02-8025-b816da12f0d6",
      "metadata": {
        "id": "d96bcb35-c212-4c02-8025-b816da12f0d6"
      },
      "outputs": [],
      "source": [
        "v1,v2=1,2"
      ]
    },
    {
      "cell_type": "code",
      "execution_count": null,
      "id": "9127d335-0ca2-4952-9ad6-47b83db06b43",
      "metadata": {
        "id": "9127d335-0ca2-4952-9ad6-47b83db06b43",
        "outputId": "9f1f5682-4338-4ffa-990d-2b60d67160c2"
      },
      "outputs": [
        {
          "data": {
            "text/plain": [
              "1"
            ]
          },
          "execution_count": 25,
          "metadata": {},
          "output_type": "execute_result"
        }
      ],
      "source": [
        "v1"
      ]
    },
    {
      "cell_type": "code",
      "execution_count": null,
      "id": "320d6710-4484-4d7a-adf9-7be0d20a5310",
      "metadata": {
        "id": "320d6710-4484-4d7a-adf9-7be0d20a5310",
        "outputId": "fbc4c92c-4661-41fb-e96b-dc90d579921d"
      },
      "outputs": [
        {
          "data": {
            "text/plain": [
              "2"
            ]
          },
          "execution_count": 26,
          "metadata": {},
          "output_type": "execute_result"
        }
      ],
      "source": [
        "v2"
      ]
    },
    {
      "cell_type": "code",
      "execution_count": null,
      "id": "74433c0c-e4b4-4020-ba33-94d6bff79cd7",
      "metadata": {
        "id": "74433c0c-e4b4-4020-ba33-94d6bff79cd7",
        "outputId": "4bfbb80f-a341-4943-de99-a92b02646e9b"
      },
      "outputs": [
        {
          "name": "stdout",
          "output_type": "stream",
          "text": [
            "3\n",
            "7\n",
            "11\n"
          ]
        }
      ],
      "source": [
        "for v1,v2 in l2:\n",
        "    print(v1+v2)"
      ]
    },
    {
      "cell_type": "code",
      "execution_count": null,
      "id": "af7e85e5-47b5-4adc-a4b9-fee17d6bcf1c",
      "metadata": {
        "id": "af7e85e5-47b5-4adc-a4b9-fee17d6bcf1c"
      },
      "outputs": [],
      "source": [
        "d1={'Key1':1,'Key2':2}"
      ]
    },
    {
      "cell_type": "code",
      "execution_count": null,
      "id": "c767d41f-c4cb-4b05-ae08-68ce76a08650",
      "metadata": {
        "id": "c767d41f-c4cb-4b05-ae08-68ce76a08650",
        "outputId": "0c193a7d-1504-4faa-f421-d30ab005138e"
      },
      "outputs": [
        {
          "name": "stdout",
          "output_type": "stream",
          "text": [
            "('Key1', 1)\n",
            "('Key2', 2)\n"
          ]
        }
      ],
      "source": [
        "for pair in d1.items():\n",
        "    print(pair)"
      ]
    },
    {
      "cell_type": "code",
      "execution_count": null,
      "id": "c2cd9a9a-a547-4d3f-bdba-72c672841485",
      "metadata": {
        "id": "c2cd9a9a-a547-4d3f-bdba-72c672841485",
        "outputId": "1c5e20c8-0c10-4c59-ece9-c151abec81ab"
      },
      "outputs": [
        {
          "name": "stdout",
          "output_type": "stream",
          "text": [
            "3\n",
            "5\n",
            "7\n",
            "9\n",
            "11\n",
            "num is larger than 10\n"
          ]
        }
      ],
      "source": [
        "num=1\n",
        "while num<10:\n",
        "    num+=2 #num=num+2\n",
        "    print(num)\n",
        "else:\n",
        "    print('num is larger than 10')"
      ]
    },
    {
      "cell_type": "code",
      "execution_count": null,
      "id": "7ca20d4b-fb8c-461d-85ea-dd86a1bf3ebe",
      "metadata": {
        "id": "7ca20d4b-fb8c-461d-85ea-dd86a1bf3ebe"
      },
      "outputs": [],
      "source": [
        "#range"
      ]
    },
    {
      "cell_type": "code",
      "execution_count": null,
      "id": "8eb66f4b-5d8c-477f-a46e-5e998584fc7d",
      "metadata": {
        "id": "8eb66f4b-5d8c-477f-a46e-5e998584fc7d",
        "outputId": "e84429bc-c0f9-46eb-cc31-481924bceb9e"
      },
      "outputs": [
        {
          "data": {
            "text/plain": [
              "range(0, 10)"
            ]
          },
          "execution_count": 32,
          "metadata": {},
          "output_type": "execute_result"
        }
      ],
      "source": [
        "range(10)"
      ]
    },
    {
      "cell_type": "code",
      "execution_count": null,
      "id": "79d53ca8-cf20-4c85-b8b4-b8e78988b0ee",
      "metadata": {
        "id": "79d53ca8-cf20-4c85-b8b4-b8e78988b0ee",
        "outputId": "137decef-56bf-41e2-9a0f-ebf59c3a3a63"
      },
      "outputs": [
        {
          "name": "stdout",
          "output_type": "stream",
          "text": [
            "2\n",
            "4\n",
            "6\n",
            "8\n"
          ]
        }
      ],
      "source": [
        "for i in range(2,10,2):\n",
        "    print(i)"
      ]
    },
    {
      "cell_type": "code",
      "execution_count": null,
      "id": "18b5e59a-a144-40ca-a1af-e8226d71bb27",
      "metadata": {
        "id": "18b5e59a-a144-40ca-a1af-e8226d71bb27"
      },
      "outputs": [],
      "source": [
        "#enumerate"
      ]
    },
    {
      "cell_type": "code",
      "execution_count": null,
      "id": "1bfc0d8b-ab3a-45c1-9c00-ec6a63d14566",
      "metadata": {
        "id": "1bfc0d8b-ab3a-45c1-9c00-ec6a63d14566",
        "outputId": "feec9603-07a3-408e-825c-0e70af0cbd92"
      },
      "outputs": [
        {
          "name": "stdout",
          "output_type": "stream",
          "text": [
            "a\n",
            "b\n",
            "c\n",
            "d\n",
            "4\n"
          ]
        }
      ],
      "source": [
        "cnt=0\n",
        "l1=['a','b','c','d']\n",
        "for cnt, letter in enumerate(l1):\n",
        "    print(letter)\n",
        "    cnt+=1 #cnt=cnt+1\n",
        "    \n",
        "print(cnt)"
      ]
    },
    {
      "cell_type": "code",
      "execution_count": null,
      "id": "bad2303a-0d43-493b-b651-fb580b5aea94",
      "metadata": {
        "id": "bad2303a-0d43-493b-b651-fb580b5aea94"
      },
      "outputs": [],
      "source": [
        "#FUNCTIONS"
      ]
    },
    {
      "cell_type": "code",
      "execution_count": null,
      "id": "7440a6c3-f4ec-485b-ae07-55e02a2db484",
      "metadata": {
        "id": "7440a6c3-f4ec-485b-ae07-55e02a2db484"
      },
      "outputs": [],
      "source": []
    }
  ],
  "metadata": {
    "kernelspec": {
      "display_name": "Python 3 (ipykernel)",
      "language": "python",
      "name": "python3"
    },
    "language_info": {
      "codemirror_mode": {
        "name": "ipython",
        "version": 3
      },
      "file_extension": ".py",
      "mimetype": "text/x-python",
      "name": "python",
      "nbconvert_exporter": "python",
      "pygments_lexer": "ipython3",
      "version": "3.9.13"
    },
    "colab": {
      "provenance": [],
      "include_colab_link": true
    }
  },
  "nbformat": 4,
  "nbformat_minor": 5
}